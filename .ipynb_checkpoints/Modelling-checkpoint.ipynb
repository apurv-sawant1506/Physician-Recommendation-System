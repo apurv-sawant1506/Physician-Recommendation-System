{
 "cells": [
  {
   "cell_type": "code",
   "execution_count": 1,
   "metadata": {},
   "outputs": [],
   "source": [
    "import pandas as pd\n",
    "import numpy as np\n",
    "import re\n",
    "# from wordcloud import WordCloud, STOPWORDS\n",
    "# from collections import Counter\n",
    "#import scispacy\n",
    "#import spacy"
   ]
  },
  {
   "cell_type": "markdown",
   "metadata": {},
   "source": [
    "### Pre-Processing"
   ]
  },
  {
   "cell_type": "code",
   "execution_count": 2,
   "metadata": {},
   "outputs": [],
   "source": [
    "#importing\n",
    "df = pd.read_csv('df_diseases.csv')"
   ]
  },
  {
   "cell_type": "code",
   "execution_count": 3,
   "metadata": {},
   "outputs": [],
   "source": [
    "# dropping col's\n",
    "df.drop([df.columns[0],df.columns[2]],axis=1,inplace=True)"
   ]
  },
  {
   "cell_type": "code",
   "execution_count": 4,
   "metadata": {},
   "outputs": [],
   "source": [
    "# Filling NaN values with empty string\n",
    "df.fillna('',inplace=True)"
   ]
  },
  {
   "cell_type": "code",
   "execution_count": 5,
   "metadata": {},
   "outputs": [],
   "source": [
    "## some pre-processing\n",
    "for i in range(len(df)):\n",
    "    df.loc[i,'symptoms']=re.sub('[^A-Za-z0-9., ]+', '', df.loc[i,'symptoms'])\n",
    "    df.loc[i,'causes']=re.sub('[^A-Za-z0-9., ]+', '', df.loc[i,'causes'])\n",
    "    df.loc[i,'risk_factor']=re.sub('[^A-Za-z0-9., ]+', '', df.loc[i,'risk_factor'])\n",
    "    df.loc[i,'overview']=re.sub('[^A-Za-z0-9., ]+', '', df.loc[i,'overview'])\n",
    "    df.loc[i,'treatment']=re.sub('[^A-Za-z0-9., ]+', '', df.loc[i,'treatment'])\n",
    "    df.loc[i,'medication']=re.sub('[^A-Za-z0-9., ]+', '', df.loc[i,'medication'])\n",
    "    df.loc[i,'home_remedies']=re.sub('[^A-Za-z0-9., ]+', '', df.loc[i,'home_remedies'])"
   ]
  },
  {
   "cell_type": "code",
   "execution_count": 6,
   "metadata": {},
   "outputs": [],
   "source": [
    "#some more preprocessing\n",
    "df['name']=df['name'].str.lower()\n",
    "df['symptoms']=df['symptoms'].str.lower()\n",
    "df['causes']=df['causes'].str.lower()\n",
    "df['risk_factor']=df['risk_factor'].str.lower()\n",
    "df['overview']=df['overview'].str.lower()\n",
    "df['treatment']=df['treatment'].str.lower()\n",
    "df['medication']=df['medication'].str.lower()\n",
    "df['home_remedies']=df['home_remedies'].str.lower()"
   ]
  },
  {
   "cell_type": "markdown",
   "metadata": {},
   "source": [
    "### Creating Classes"
   ]
  },
  {
   "cell_type": "code",
   "execution_count": 7,
   "metadata": {},
   "outputs": [],
   "source": [
    "#adding a new column named 'class' which will contain the category of the disease\n",
    "df['class']=-1"
   ]
  },
  {
   "cell_type": "code",
   "execution_count": 8,
   "metadata": {},
   "outputs": [],
   "source": [
    "def create_classes(row):\n",
    "    if((row['medication']=='') and (row['home_remedies']=='')):\n",
    "        return 1\n",
    "    elif((row['medication']!='') and (row['home_remedies']=='')):\n",
    "        return 2\n",
    "    elif((row['medication']!='') and (row['home_remedies']!='')):\n",
    "        return 3\n",
    "    elif((row['medication']=='') and (row['home_remedies']!='')):\n",
    "        return 4"
   ]
  },
  {
   "cell_type": "code",
   "execution_count": 9,
   "metadata": {},
   "outputs": [],
   "source": [
    "df['class']=df.apply(create_classes,axis=1)"
   ]
  },
  {
   "cell_type": "markdown",
   "metadata": {},
   "source": [
    "## Creating columns - 'organs', 'systems' and 'final_system' using dictionary"
   ]
  },
  {
   "cell_type": "code",
   "execution_count": 10,
   "metadata": {},
   "outputs": [],
   "source": [
    "organ_dict={\"muscular system\": [\"human skeleton\", \"joints\", \"ligaments\", \"muscular system\", \"tendons\"],\n",
    " \"digestive system\": [\"mouth\", \"teeth\", \"tongue\", \"salivary glands\", \"parotid glands\", \"submandibular glands\", \"sublingual glands\", \"pharynx\", \"esophagus\", \"stomach\", \"small intestine\", \"duodenum\", \"jejunum\", \"ileum\", \"large intestine\", \"liver\", \"gallbladder\", \"mesentery\", \"pancreas\", \"anal canal\", \"anus\", \"blood cells\"],\n",
    " \"respiratory system\": [\"nasal cavity\", \"pharynx\", \"larynx\", \"trachea\", \"bronchi\", \"lungs\", \"diaphragm\"],\n",
    " \"urinary system\": [\"kidneys\", \"ureter\", \"bladder\", \"urethra\"],\n",
    " \"reproductive system\": [\"testes\", \"epididymis\", \"vas deferens\", \"seminal vesicles\", \"prostate\", \"bulbourethral glands\", \"ovaries\", \"fallopian tubes\", \"uterus\", \"vagina\", \"vulva\", \"clitoris\", \"placenta\", \"penis\", \"scrotum\"],\n",
    " \"endocrine system\": [\"pituitary gland\", \"pineal gland\", \"thyroid gland\", \"parathyroid glands\", \"adrenal glands\", \"pancreas\"],\n",
    " \"circulatory system\": [\"heart\", \"patent foramen ovale\", \"arteries\", \"veins\", \"capillaries\", \"lymphatic vessel\", \"lymph node\", \"bone marrow\", \"thymus\", \"spleen\", \"gut-associated lymphoid tissue\", \"tonsils\", \"interstitium\"],\n",
    " \"nervous system\": [\"brain\", \"cerebrum\", \"cerebral hemispheres\", \"diencephalon\", \"the brainstem\", \"midbrain\", \"pons\", \"medulla oblongata\", \"cerebellum\", \"the spinal cord\", \"the ventricular system\", \"choroid plexus\", \"nerves\", \"cranial nerves\", \"spinal nerves\", \"ganglia\", \"enteric nervous system\", \"eye\", \"cornea\", \"iris\", \"ciliary body\", \"lens\", \"retina\", \"ear\", \"outer ear\", \"earlobe\", \"eardrum\", \"middle ear\", \"ossicles\", \"inner ear\", \"cochlea\", \"vestibule of the ear\", \"semicircular canals\", \"olfactory epithelium\", \"tongue\", \"taste buds\"],\n",
    " \"integumentary system\": [\"mammary glands\", \"skin\", \"subcutaneous tissue\"]}"
   ]
  },
  {
   "cell_type": "code",
   "execution_count": 11,
   "metadata": {},
   "outputs": [],
   "source": [
    "organ_keys=organ_dict.keys()"
   ]
  },
  {
   "cell_type": "code",
   "execution_count": 12,
   "metadata": {},
   "outputs": [
    {
     "data": {
      "text/plain": [
       "dict_keys(['muscular system', 'digestive system', 'respiratory system', 'urinary system', 'reproductive organs', 'endocrine system', 'circulatory system', 'nervous system', 'integumentary system'])"
      ]
     },
     "execution_count": 12,
     "metadata": {},
     "output_type": "execute_result"
    }
   ],
   "source": [
    "organ_keys"
   ]
  },
  {
   "cell_type": "code",
   "execution_count": 13,
   "metadata": {},
   "outputs": [],
   "source": [
    "df['organs'] = [[] for _ in range(len(df))]"
   ]
  },
  {
   "cell_type": "code",
   "execution_count": 14,
   "metadata": {},
   "outputs": [],
   "source": [
    "for i in range(len(df)):\n",
    "    s=df['symptoms'][i]+df['causes'][i]+df['risk_factor'][i]+df['overview'][i]\n",
    "    s_tokens=s.split(' ')\n",
    "    \n",
    "    for value in organ_keys:\n",
    "        val=organ_dict.get(value)\n",
    "        \n",
    "        for j in val:\n",
    "            if(j in s_tokens):\n",
    "                df.loc[i,'organs'].append(j)"
   ]
  },
  {
   "cell_type": "code",
   "execution_count": 15,
   "metadata": {},
   "outputs": [],
   "source": [
    "df['systems'] = [[] for _ in range(len(df))]"
   ]
  },
  {
   "cell_type": "code",
   "execution_count": 16,
   "metadata": {},
   "outputs": [],
   "source": [
    "key_list = list(organ_dict.keys()) \n",
    "val_list = list(organ_dict.values()) "
   ]
  },
  {
   "cell_type": "code",
   "execution_count": 17,
   "metadata": {},
   "outputs": [],
   "source": [
    "#val_list"
   ]
  },
  {
   "cell_type": "code",
   "execution_count": 18,
   "metadata": {},
   "outputs": [],
   "source": [
    "#key_list"
   ]
  },
  {
   "cell_type": "code",
   "execution_count": 19,
   "metadata": {},
   "outputs": [],
   "source": [
    "for i in range(len(df)):\n",
    "    for val in df['organs'][i]:\n",
    "        for k in range(len(val_list)):\n",
    "            if(val in val_list[k]):\n",
    "                df['systems'][i].append(key_list[k])"
   ]
  },
  {
   "cell_type": "code",
   "execution_count": 20,
   "metadata": {},
   "outputs": [
    {
     "data": {
      "text/html": [
       "<div>\n",
       "<style scoped>\n",
       "    .dataframe tbody tr th:only-of-type {\n",
       "        vertical-align: middle;\n",
       "    }\n",
       "\n",
       "    .dataframe tbody tr th {\n",
       "        vertical-align: top;\n",
       "    }\n",
       "\n",
       "    .dataframe thead th {\n",
       "        text-align: right;\n",
       "    }\n",
       "</style>\n",
       "<table border=\"1\" class=\"dataframe\">\n",
       "  <thead>\n",
       "    <tr style=\"text-align: right;\">\n",
       "      <th></th>\n",
       "      <th>name</th>\n",
       "      <th>symptoms</th>\n",
       "      <th>causes</th>\n",
       "      <th>risk_factor</th>\n",
       "      <th>overview</th>\n",
       "      <th>treatment</th>\n",
       "      <th>medication</th>\n",
       "      <th>home_remedies</th>\n",
       "      <th>class</th>\n",
       "      <th>organs</th>\n",
       "      <th>systems</th>\n",
       "    </tr>\n",
       "  </thead>\n",
       "  <tbody>\n",
       "    <tr>\n",
       "      <th>0</th>\n",
       "      <td>acanthosis nigricans</td>\n",
       "      <td>skin changes are the only signs of acanthosis ...</td>\n",
       "      <td>acanthosis nigricans has been associated with,...</td>\n",
       "      <td>acanthosis nigricans risk factors include, obe...</td>\n",
       "      <td>acanthosis nigricans is a skin condition that ...</td>\n",
       "      <td>in many situations, treating the underlying pr...</td>\n",
       "      <td></td>\n",
       "      <td></td>\n",
       "      <td>1</td>\n",
       "      <td>[stomach, pancreas, pancreas, skin]</td>\n",
       "      <td>[digestive system, digestive system, endocrine...</td>\n",
       "    </tr>\n",
       "    <tr>\n",
       "      <th>1</th>\n",
       "      <td>achalasia</td>\n",
       "      <td></td>\n",
       "      <td></td>\n",
       "      <td></td>\n",
       "      <td>achalasia is a rare disorder that makes it dif...</td>\n",
       "      <td>achalasia treatment focuses on relaxing or for...</td>\n",
       "      <td></td>\n",
       "      <td></td>\n",
       "      <td>1</td>\n",
       "      <td>[mouth, esophagus, stomach, nerves]</td>\n",
       "      <td>[digestive system, digestive system, digestive...</td>\n",
       "    </tr>\n",
       "    <tr>\n",
       "      <th>2</th>\n",
       "      <td>achilles tendon rupture</td>\n",
       "      <td>although its possible to have no signs or symp...</td>\n",
       "      <td>your achilles tendon helps you point your foot...</td>\n",
       "      <td>factors that may increase your risk of achille...</td>\n",
       "      <td>the achilles tendon is a strong fibrous cord t...</td>\n",
       "      <td>treatment for a ruptured achilles tendon often...</td>\n",
       "      <td></td>\n",
       "      <td></td>\n",
       "      <td>1</td>\n",
       "      <td>[tendons]</td>\n",
       "      <td>[muscular system]</td>\n",
       "    </tr>\n",
       "    <tr>\n",
       "      <th>3</th>\n",
       "      <td>acute coronary syndrome</td>\n",
       "      <td>the signs and symptoms of acute coronary syndr...</td>\n",
       "      <td>acute coronary syndrome usually results from t...</td>\n",
       "      <td>the risk factors for acute coronary syndrome a...</td>\n",
       "      <td>acute coronary syndrome is a term used to desc...</td>\n",
       "      <td>the immediate goals of treatment for acute cor...</td>\n",
       "      <td>depending on your diagnosis, medications for e...</td>\n",
       "      <td>heart healthy lifestyle changes are an importa...</td>\n",
       "      <td>3</td>\n",
       "      <td>[heart]</td>\n",
       "      <td>[circulatory system]</td>\n",
       "    </tr>\n",
       "    <tr>\n",
       "      <th>4</th>\n",
       "      <td>adenomyosis</td>\n",
       "      <td>sometimes, adenomyosis causes no signs or symp...</td>\n",
       "      <td>the cause of adenomyosis isnt known. there hav...</td>\n",
       "      <td>risk factors for adenomyosis include, most cas...</td>\n",
       "      <td>with adenomyosis, the same tissue that lines t...</td>\n",
       "      <td>adenomyosis often goes away after menopause, s...</td>\n",
       "      <td></td>\n",
       "      <td>to ease pelvic pain and cramping related to ad...</td>\n",
       "      <td>4</td>\n",
       "      <td>[uterus]</td>\n",
       "      <td>[reproductive organs]</td>\n",
       "    </tr>\n",
       "  </tbody>\n",
       "</table>\n",
       "</div>"
      ],
      "text/plain": [
       "                      name                                           symptoms  \\\n",
       "0     acanthosis nigricans  skin changes are the only signs of acanthosis ...   \n",
       "1                achalasia                                                      \n",
       "2  achilles tendon rupture  although its possible to have no signs or symp...   \n",
       "3  acute coronary syndrome  the signs and symptoms of acute coronary syndr...   \n",
       "4              adenomyosis  sometimes, adenomyosis causes no signs or symp...   \n",
       "\n",
       "                                              causes  \\\n",
       "0  acanthosis nigricans has been associated with,...   \n",
       "1                                                      \n",
       "2  your achilles tendon helps you point your foot...   \n",
       "3  acute coronary syndrome usually results from t...   \n",
       "4  the cause of adenomyosis isnt known. there hav...   \n",
       "\n",
       "                                         risk_factor  \\\n",
       "0  acanthosis nigricans risk factors include, obe...   \n",
       "1                                                      \n",
       "2  factors that may increase your risk of achille...   \n",
       "3  the risk factors for acute coronary syndrome a...   \n",
       "4  risk factors for adenomyosis include, most cas...   \n",
       "\n",
       "                                            overview  \\\n",
       "0  acanthosis nigricans is a skin condition that ...   \n",
       "1  achalasia is a rare disorder that makes it dif...   \n",
       "2  the achilles tendon is a strong fibrous cord t...   \n",
       "3  acute coronary syndrome is a term used to desc...   \n",
       "4  with adenomyosis, the same tissue that lines t...   \n",
       "\n",
       "                                           treatment  \\\n",
       "0  in many situations, treating the underlying pr...   \n",
       "1  achalasia treatment focuses on relaxing or for...   \n",
       "2  treatment for a ruptured achilles tendon often...   \n",
       "3  the immediate goals of treatment for acute cor...   \n",
       "4  adenomyosis often goes away after menopause, s...   \n",
       "\n",
       "                                          medication  \\\n",
       "0                                                      \n",
       "1                                                      \n",
       "2                                                      \n",
       "3  depending on your diagnosis, medications for e...   \n",
       "4                                                      \n",
       "\n",
       "                                       home_remedies  class  \\\n",
       "0                                                         1   \n",
       "1                                                         1   \n",
       "2                                                         1   \n",
       "3  heart healthy lifestyle changes are an importa...      3   \n",
       "4  to ease pelvic pain and cramping related to ad...      4   \n",
       "\n",
       "                                organs  \\\n",
       "0  [stomach, pancreas, pancreas, skin]   \n",
       "1  [mouth, esophagus, stomach, nerves]   \n",
       "2                            [tendons]   \n",
       "3                              [heart]   \n",
       "4                             [uterus]   \n",
       "\n",
       "                                             systems  \n",
       "0  [digestive system, digestive system, endocrine...  \n",
       "1  [digestive system, digestive system, digestive...  \n",
       "2                                  [muscular system]  \n",
       "3                               [circulatory system]  \n",
       "4                              [reproductive organs]  "
      ]
     },
     "execution_count": 20,
     "metadata": {},
     "output_type": "execute_result"
    }
   ],
   "source": [
    "df.head()"
   ]
  },
  {
   "cell_type": "markdown",
   "metadata": {},
   "source": [
    "### Manual Entries"
   ]
  },
  {
   "cell_type": "code",
   "execution_count": 21,
   "metadata": {},
   "outputs": [],
   "source": [
    "#apurv\n",
    "\n",
    "df.at[525,'organs']=['large intestine']\n",
    "df.at[525,'systems']=['digestive system']\n",
    "\n",
    "df.at[537,'organs']=['nose','eyes','throat','skin']\n",
    "df.at[537,'systems']=['respiratory system']\n",
    "\n",
    "df.at[539,'organs']=['blood']\n",
    "df.at[539,'systems']=['circulatory system']\n",
    "\n",
    "df.at[541,'organs']=['brain']\n",
    "df.at[541,'systems']=['nervous system'] #psycological disorder\n",
    "\n",
    "df.at[550,'organs']=['blood cells']\n",
    "df.at[550,'systems']=['circulatory system'] #type of blood cancer\n",
    "\n",
    "df.at[551,'organs']=['brain']\n",
    "df.at[551,'systems']=['nervous system'] #psycological disorder\n",
    "\n",
    "df.at[552,'organs']=['salivary gland'] #infection in salivary glands due to bacteria\n",
    "df.at[552,'systems']=['digestive system']\n",
    "\n",
    "df.at[554,'organs']=['muscles']\n",
    "df.at[554,'systems']=['muscular system']\n",
    "\n",
    "df.at[555,'organs']=['muscles']\n",
    "df.at[555,'systems']=['muscular system']\n",
    "\n",
    "df.at[558,'organs']=['muscles']\n",
    "df.at[558,'systems']=['muscular system'] #bone marrow cancer\n",
    "\n",
    "df.at[563,'organs']=['muscles']\n",
    "df.at[563,'systems']=['muscular system'] #extreme pain in muscles due to various reasons\n",
    "\n",
    "df.at[564,'organs']=['legs','arms']\n",
    "df.at[564,'systems']=['muscular system'] #cancer that develops lump in legs or arms\n",
    "\n",
    "df.at[566,'organs']=['nose','eyes','mouth']\n",
    "df.at[566,'systems']=['respiratory system'] #cancer developing in nose\n",
    "\n",
    "df.at[576,'organs']=['nerves'] #tumor nerves in peripheral nervous system\n",
    "df.at[576,'systems']=['nervous system']\n",
    "\n",
    "#the disease is classified as a disease of the respiratory sytem, but actually for nose fracture the \n",
    "#patient must be recommended to an orthopedic\n",
    "df.at[593,'organs']=['nose']\n",
    "df.at[593,'systems']=['respiratory system'] #nose fracture\n",
    "\n",
    "df.at[594,'organs']=['fat']\n",
    "df.at[594,'systems']=['integumentary system'] #obesity\n",
    "\n",
    "df.at[603,'organs']=['brain']\n",
    "df.at[603,'systems']=['nervous system'] #a type of brain tumor\n",
    "\n",
    "df.at[609,'organs']=['joints']\n",
    "df.at[609,'systems']=['muscular system']\n",
    "\n",
    "df.at[614,'organs']=['joints','bones']\n",
    "df.at[614,'systems']=['muscular system']\n",
    "\n",
    "df.at[617,'organs']=['bone']\n",
    "df.at[617,'systems']=['muscular system'] #bone cancer\n",
    "\n",
    "df.at[623,'organs']=['thyroid gland']\n",
    "df.at[623,'systems']=['endocrine system'] #cancer that occurs in the cells of thyroid gland\n",
    "\n",
    "df.at[637,'organs']=['nerves']\n",
    "df.at[637,'systems']=['nervous system'] #tumor in certain nerves\n",
    "\n",
    "df.at[640,'organs']=['salivary glands']\n",
    "df.at[640,'systems']=['digestive system'] #tumor in salivary glands\n",
    "\n",
    "df.at[641,'organs']=['pumonary veins']\n",
    "df.at[641,'systems']=['circulatory system'] #defect in pulmonary veins of the heart\n",
    "\n",
    "df.at[643,'organs']=['brain']\n",
    "df.at[643,'systems']=['nervous system'] #mental disorder\n",
    "\n",
    "df.at[647,'organs']=['chest']\n",
    "df.at[647,'systems']=['circulatory system'] \n",
    "\n",
    "df.at[649,'organs']=['hair','scalp']\n",
    "df.at[649,'systems']=['integumentary system'] #tiny insects infect the scalp\n",
    "\n",
    "df.at[670,'organs']=['foot']\n",
    "df.at[670,'systems']=['muscular system'] \n",
    "\n",
    "df.at[679,'organs']=['brain','pineal gland']\n",
    "df.at[679,'systems']=['nervous system'] #cancer develops in the pineal gland of brain\n",
    "\n",
    "df.at[689,'organs']=['tissue']\n",
    "df.at[689,'systems']=['muscular system']\n",
    "\n",
    "df.at[694,'organs']=['lungs']\n",
    "df.at[694,'systems']=['respiratory system']\n",
    "\n",
    "df.at[700,'organs']=['muscles']\n",
    "df.at[700,'systems']=['muscular system']\n",
    "\n",
    "df.at[701,'organs']=['rectum','large intestine']\n",
    "df.at[701,'systems']=['digestive system']\n",
    "\n",
    "df.at[702,'organs']=['sinus','nose']\n",
    "df.at[702,'systems']=['respiratory system']\n",
    "\n",
    "df.at[704,'organs']=['popliteal artery','knee joint']\n",
    "df.at[704,'systems']=['circulatory system']\n",
    "\n",
    "df.at[706,'organs']=['knee','joint']\n",
    "df.at[706,'systems']=['muscular system']\n",
    "\n",
    "df.at[714,'organs']=['brain']\n",
    "df.at[714,'systems']=['nervous system'] #psycological disorder\n",
    "\n",
    "df.at[715,'organs']=['urine']\n",
    "df.at[715,'systems']=['reproductive system']\n",
    "\n",
    "df.at[716,'organs']=['thyroid gland']\n",
    "df.at[716,'systems']=['endocrine system']\n",
    "\n",
    "df.at[722,'organs']=['None']\n",
    "df.at[722,'systems']=['Reproductive system']\n",
    "\n",
    "df.at[728,'organs']=['brain']\n",
    "df.at[728,'systems']=['nervous system'] #psycological disorder, addiction\n",
    "\n",
    "df.at[735,'organs']=['adrenal gland']\n",
    "df.at[735,'systems']=['endocrine system']\n",
    "\n",
    "df.at[748,'organs']=['muscles']\n",
    "df.at[748,'systems']=['muscular system']\n",
    "\n",
    "df.at[750,'organs']=['large intestine']\n",
    "df.at[750,'systems']=['digestive system'] #swelling of large intestine due to bacteria\n",
    "\n",
    "df.at[757,'organs']=['pulmonary valve']\n",
    "df.at[757,'systems']=['cirulatory system']\n",
    "\n",
    "df.at[758,'organs']=['heart']\n",
    "df.at[758,'systems']=['ciruclatory system']\n",
    "\n",
    "df.at[769,'organs']=['body']\n",
    "df.at[769,'systems']=['nervous system']\n",
    "\n",
    "df.at[775,'organs']=['brain']\n",
    "df.at[775,'systems']=['nervous system']\n",
    "\n",
    "df.at[776,'organs']=['rectum']\n",
    "df.at[776,'systems']=['reproductive system']\n",
    "\n",
    "#end of apurv code\n",
    "\n",
    "#Gargi\n",
    "\n",
    "#df['name'][270] = 'fibrocystic breasts'\n",
    "df.at[270,'organs']=['breasts']\n",
    "df.at[270,'systems']=['reproductive system']\n",
    "\n",
    "#df['name'][274] = 'fibrous dysplasia'\n",
    "df.at[274,'organs']=['bone']\n",
    "df.at[274,'systems']=['muscular system']\n",
    "\n",
    "#df['name'][281] = 'foot fracture (see: broken foot)'\n",
    "df.at[281,'organs']=['foot', 'bones']\n",
    "df.at[281,'systems']=['muscular system']\n",
    "\n",
    "#df['name'][282] = 'fracture, arm (see: broken arm)'\n",
    "df.at[282,'organs']=['bone']\n",
    "df.at[282,'systems']=['muscular system']\n",
    "\n",
    "#df['name'][298] = 'gastrointestinal stromal tumor (gist)'\n",
    "df.at[298,'organs']=['stomach', 'intestine']\n",
    "df.at[298,'systems']=['digestive system']\n",
    "\n",
    "#df['name'][300] = 'gender identity disorder (see: gender dysphoria)'\n",
    "df.at[300,'organs']=['reproductive system']\n",
    "df.at[300,'systems']=['reproductive system']\n",
    "\n",
    "#df['name'][306] = 'giardia infection (giardiasis)'\n",
    "df.at[306,'organs']=['stomach', 'intestine']\n",
    "df.at[306,'systems']=['digestive system']\n",
    "\n",
    "#df['name'][309] = 'glioblastoma'\n",
    "df.at[309,'organs']=['brain', 'spine']\n",
    "df.at[309,'systems']=['nervous system']\n",
    "\n",
    "#df['name'][318] = 'growing pains'\n",
    "df.at[318,'organs']=['legs','thighs','knees','calves']\n",
    "df.at[318,'systems']=['muscular system']\n",
    "\n",
    "#df['name'][325] = 'hamstring injury'\n",
    "df.at[325,'organs']=['thigh']\n",
    "df.at[325,'systems']=['muscular system']\n",
    "\n",
    "#df['name'][326] = 'hand fracture (see: broken hand)'\n",
    "df.at[326,'organs']=['hand']\n",
    "df.at[326,'systems']=['muscular system']\n",
    "\n",
    "#df['name'][330] = 'head and neck cancers'\n",
    "df.at[330,'organs']=['mouth', 'sinuses', 'nose', 'throat']\n",
    "df.at[330,'systems']=['respiratory system']\n",
    "\n",
    "#df['name'][346] = 'hemifacial spasm\n",
    "df.at[346,'organs']=['facial muscles']\n",
    "df.at[346,'systems']=['muscular system']\n",
    "\n",
    "#df['name'][353] = 'hepatocellular carcinoma'\n",
    "df.at[353,'organs']=['liver']\n",
    "df.at[353,'systems']=['digestive system']\n",
    "\n",
    "#df['name'][361] = 'hip dysplasia'\n",
    "df.at[361,'organs']=['hip']\n",
    "df.at[361,'systems']=['muscular system']\n",
    "\n",
    "#df['name'][363] = 'hip impingement'\n",
    "df.at[363,'organs']=['hip']\n",
    "df.at[363,'systems']=['muscular system']\n",
    "\n",
    "#df['name'][364] = 'hip labral tear'\n",
    "df.at[364,'organs']=['labrum', 'hip']\n",
    "df.at[364,'systems']=['muscular system']\n",
    "\n",
    "#df['name'][374] = 'hydronephrosis'\n",
    "df.at[374,'organs']=['abdomen', 'kidney']\n",
    "df.at[374,'systems']=['digestive system', 'urinary system']\n",
    "\n",
    "#df['name'][386] = 'hypoglycemia, diabetic (see: diabetic hypoglycemia)'\n",
    "df.at[386,'organs']=['low sugar']\n",
    "df.at[386,'systems']=['digestive system']\n",
    "\n",
    "#df['name'][395] = 'idiopathic hypersomnia'\n",
    "df.at[395,'organs']=['neurological sleep disorder']\n",
    "df.at[395,'systems']=['nervous system']\n",
    "\n",
    "#df['name'][402] = 'ncomplete fracture (see: greenstick fractures)'\n",
    "df.at[402,'organs']=['bones', 'forearm', 'legs']\n",
    "df.at[402,'systems']=['muscular system']\n",
    "\n",
    "#df['name'][408] = 'inflammatory bowel disease (ibd)'\n",
    "df.at[408,'organs']=['digestive tract']\n",
    "df.at[408,'systems']=['digestive system']\n",
    "\n",
    "#df['name'][413] = 'ingrown toenails'\n",
    "df.at[413,'organs']=['toenails', 'nails', 'finger']\n",
    "df.at[413,'systems']=['integumentary system']\n",
    "\n",
    "#df['name'][416] = 'intestinal obstruction'\n",
    "df.at[416,'organs']=['abdomen', 'intestine']\n",
    "df.at[416,'systems']=['digestive system']\n",
    "\n",
    "#df['name'][418] = 'intraductal carcinoma (see: ductal carcinoma in situ (dcis))'\n",
    "df.at[418,'organs']=['breasts']\n",
    "df.at[418,'systems']=['reproductive system']\n",
    "\n",
    "#df['name'][419] = 'intussusception'\n",
    "df.at[419,'organs']=['intestine']\n",
    "df.at[419,'systems']=['digestive system']\n",
    "\n",
    "#df['name'][432] = 'Kaposi sarcoma'\n",
    "df.at[432,'organs']=['skin', 'lymph nodes', 'mucous membranes lining the mouth', 'nose', 'throat']\n",
    "df.at[432,'systems']=['integumentary system']\n",
    "\n",
    "#df['name'][436] = 'kidney cysts'\n",
    "df.at[436,'organs']=['kidney']\n",
    "df.at[436,'systems']=['urinary system']\n",
    "\n",
    "#df['name'][438] = 'klatskin tumor (see: hilar cholangiocarcinoma)'\n",
    "df.at[438,'organs']=['hepatic duct', 'liver']\n",
    "df.at[438,'systems']=['digestive system']\n",
    "\n",
    "#df['name'][439] = 'klinefelter syndrome'\n",
    "df.at[439,'organs']=['genetic', 'reproductive']\n",
    "df.at[439,'systems']=['reproductive system']\n",
    "\n",
    "#df['name'][450] = 'leg fracture (see: broken leg)'\n",
    "df.at[450,'organs']=['leg', 'bone']\n",
    "df.at[450,'systems']=['muscular system']\n",
    "\n",
    "#df['name'][451] = 'legg-calve-perthes disease'\n",
    "df.at[451,'organs']=['femur', 'hip', 'bone', 'thigh bone']\n",
    "df.at[451,'systems']=['circulatory system']\n",
    "\n",
    "#df['name'][452] = 'legionnaires disease'\n",
    "df.at[452,'organs']=['heart' , 'lungs' ,'muscles']\n",
    "df.at[452,'systems']=['muscular system','respiratory system', 'circulatory system']\n",
    "\n",
    "#df['name'][453] = 'leiomyosarcoma'\n",
    "df.at[453,'organs']=['stomach','bladder', 'intestine', 'uterus']\n",
    "df.at[453,'systems']=['reproductive system','urinary system']\n",
    "\n",
    "#df['name'][454] = 'leukemia, acute lymphocytic (see: acute lymphocytic leukemia)'\n",
    "df.at[454,'organs']=['blood', 'bone marrow']\n",
    "df.at[454,'systems']=['circulatory system']\n",
    "\n",
    "#df['name'][455] = 'leukemia, acute myelogenous (see: acute myelogenous leukemia)'\n",
    "df.at[455,'organs']=['blood', 'bone marrow']\n",
    "df.at[455,'systems']=['circulatory system']\n",
    "\n",
    "#df['name'][456] = 'leukemia, chronic lymphocytic (see: chronic lymphocytic leukemia)'\n",
    "df.at[456,'organs']=['blood', 'bone marrow']\n",
    "df.at[456,'systems']=['circulatory system']\n",
    "\n",
    "#df['name'][457] = 'leukemia, chronic myelogenous (see: chronic myelogenous leukemia)'\n",
    "df.at[457,'organs']=['blood', 'bone marrow']\n",
    "df.at[457,'systems']=['circulatory system']\n",
    "\n",
    "#df['name'][459] = 'leukemia, hairy cell (see: hairy cell leukemia)'\n",
    "df.at[459,'organs']=['blood', 'bone marrow']\n",
    "df.at[459,'systems']=['circulatory system']\n",
    "\n",
    "#df['name'][469] = 'liposarcoma'\n",
    "df.at[469,'organs']=['abdomen', 'thigh', 'knee', 'fat cells']\n",
    "df.at[469,'systems']=['muscular system']\n",
    "\n",
    "#df['name'][470] = 'listeriosis (see: listeria infection)'\n",
    "df.at[470,'organs']=['brain', 'spinal cord', 'bloodstream']\n",
    "df.at[470,'systems']=['nervous system','circulatory system']\n",
    "\n",
    "#df['name'][476] = 'lobular carcinoma in situ (lcis)'\n",
    "df.at[476,'organs']=['breasts']\n",
    "df.at[476,'systems']=['reproductive system']\n",
    "\n",
    "#df['name'][481] = 'low sex drive in women'\n",
    "df.at[481,'organs']=['reproductive system']\n",
    "df.at[481,'systems']=['reproductive system']\n",
    "\n",
    "#df['name'][501] = 'mammary duct ectasia'\n",
    "df.at[501,'organs']=['breasts']\n",
    "df.at[501,'systems']=['reproductive system']\n",
    "\n",
    "#df['name'][502] = 'manic-depressive illness (see: bipolar disorder)'\n",
    "df.at[502,'organs']=['nervous system']\n",
    "df.at[502,'systems']=['nervous system']\n",
    "\n",
    "#df['name'][507] = 'mcad deficiency'\n",
    "df.at[507,'organs']=['skeletal- and heart muscle', 'liver', 'brain']\n",
    "df.at[507,'systems']=['circulatory system', 'digestive system', 'nervous system']\n",
    "\n",
    "#df['name'][509] = 'medulloblastoma'\n",
    "df.at[509,'organs']=['cerebellum', 'brain']\n",
    "df.at[509,'systems']=['nervous system']\n",
    "\n",
    "#df['name'][523] = 'metatarsalgia'\n",
    "df.at[523,'organs']=['foot']\n",
    "df.at[523,'systems']=['muscular system']\n",
    "\n",
    "#end of gargi code\n",
    "                     \n",
    "\n",
    "#pradeumna\n",
    "\n",
    "df.at[779,'organs']=['anus']\n",
    "df.at[779,'systems']=['digestive system']\n",
    "\n",
    "df.at[791,'organs']=['human skeleton']\n",
    "df.at[791,'systems']=['muscular system']\n",
    "\n",
    "df.at[808,'organs']=['brain']\n",
    "df.at[808,'systems']=['nervous system']\n",
    "\n",
    "df.at[810,'organs']=['stomach']\n",
    "df.at[810,'systems']=['digestive system']\n",
    "\n",
    "df.at[811,'organs']=['tendons']\n",
    "df.at[811,'systems']=['muscular system']\n",
    "\n",
    "df.at[815,'organs']=['joints']\n",
    "df.at[815,'systems']=['muscular system']\n",
    "\n",
    "df.at[823,'organs']=['human skeleton']\n",
    "df.at[823,'systems']=['nervous system']\n",
    "\n",
    "df.at[826,'organs']=['brain']\n",
    "df.at[826,'systems']=['nervous system']\n",
    "\n",
    "df.at[827,'organs']=['brain']\n",
    "df.at[827,'systems']=['nervous system']\n",
    "\n",
    "df.at[831,'organs']=['brain']\n",
    "df.at[831,'systems']=['nervous system']\n",
    "\n",
    "df.at[841,'organs']=['skin']\n",
    "df.at[841,'systems']=['integumentary system']\n",
    "\n",
    "df.at[848,'organs']=['brain']\n",
    "df.at[848,'systems']=['nervous system']\n",
    "\n",
    "df.at[849,'organs']=['brain']\n",
    "df.at[849,'systems']=['nervous system']\n",
    "\n",
    "df.at[853,'organs']=['brain']\n",
    "df.at[853,'systems']=['nervous system']\n",
    "\n",
    "df.at[859,'organs']=['lungs']\n",
    "df.at[859,'systems']=['respiratory system']\n",
    "\n",
    "df.at[867,'organs']=['large intestine']\n",
    "df.at[867,'systems']=['digestive system']\n",
    "\n",
    "df.at[876,'organs']=['brain']\n",
    "df.at[876,'systems']=['nervous system']\n",
    "\n",
    "df.at[889,'organs']=['brain']\n",
    "df.at[889,'systems']=['nervous system']\n",
    "\n",
    "df.at[905,'organs']=['muscular']\n",
    "df.at[905,'systems']=['muscular system']\n",
    "\n",
    "df.at[928,'organs']=['vagina']\n",
    "df.at[928,'systems']=['reproductive system']\n",
    "\n",
    "df.at[949,'organs']=['muscular system']\n",
    "df.at[949,'systems']=['muscular system']\n",
    "\n",
    "df.at[962,'organs']=['brain']\n",
    "df.at[962,'systems']=['nervous system']\n",
    "\n",
    "df.at[969,'organs']=['skin']\n",
    "df.at[969,'systems']=['integumentary system']\n",
    "\n",
    "df.at[977,'organs']=['joints']\n",
    "df.at[977,'systems']=['muscular system']\n",
    "\n",
    "df.at[982,'organs']=['bone marrow']\n",
    "df.at[982,'systems']=['circulatory system']\n",
    "\n",
    "df.at[995,'organs']=['muscular system']\n",
    "df.at[995,'systems']=['muscular system']\n",
    "\n",
    "df.at[996,'organs']=['joints']\n",
    "df.at[996,'systems']=['muscular system']\n",
    "\n",
    "df.at[1006,'organs']=['kidneys']\n",
    "df.at[1006,'systems']=['urinary system']\n",
    "\n",
    "df.at[1009,'organs']=['skin']\n",
    "df.at[1009,'systems']=['integumentary system']\n",
    "\n",
    "df.at[1014,'organs']=['bone marrow']\n",
    "df.at[1014,'systems']=['circulatory system']\n",
    "\n",
    "df.at[1015,'organs']=['blood']\n",
    "df.at[1015,'systems']=['circulatory system']\n",
    "\n",
    "df.at[1022,'organs']=['thyroid gland']\n",
    "df.at[1022,'systems']=['endocrine system']\n",
    "\n",
    "df.at[1024,'organs']=['thyroid gland']\n",
    "df.at[1024,'systems']=['endocrine system']\n",
    "\n",
    "df.at[1029,'organs']=['human skeleton']\n",
    "df.at[1029,'systems']=['muscular system']\n",
    "\n",
    "df.at[1042,'organs']=['human skeleton']\n",
    "df.at[1042,'systems']=['muscular system']\n",
    "\n",
    "df.at[1045,'organs']=['heart']\n",
    "df.at[1045,'systems']=['circulatory system']\n",
    "\n",
    "df.at[1057,'organs']=['brain']\n",
    "df.at[1057,'systems']=['nervous system']\n",
    "\n",
    "df.at[1060,'organs']=['vagina']\n",
    "df.at[1060,'systems']=['reproductive system']\n",
    "\n",
    "df.at[1061,'organs']=['brain']\n",
    "df.at[1061,'systems']=['nervous system']\n",
    "\n",
    "df.at[1080,'organs']=['intestines']\n",
    "df.at[1080,'systems']=['digestive system']\n",
    "\n",
    "df.at[1083,'organs']=['anus']\n",
    "df.at[1083,'systems']=['digestive system']\n",
    "\n",
    "df.at[1086,'organs']=['muscular system']\n",
    "df.at[1086,'systems']=['muscular system']\n",
    "\n",
    "df.at[1124,'organs']=['trachea']\n",
    "df.at[1124,'systems']=['respiratory system']\n",
    "\n",
    "df.at[1143,'organs']=['blood']\n",
    "df.at[1143,'systems']=['circulatory system']\n",
    "\n",
    "df.at[1147,'organs']=['blood']\n",
    "df.at[1147,'systems']=['circulatory system']\n",
    "\n",
    "df.at[1159,'organs']=['blood']\n",
    "df.at[1159,'systems']=['circulatory system']\n",
    "\n",
    "df.at[1167,'organs']=['human skeleton']\n",
    "df.at[1167,'systems']=['muscular system']\n",
    "\n",
    "df.at[1177,'organs']=['muscular system']\n",
    "df.at[1177,'systems']=['muscular system']\n",
    "\n",
    "#end of praduemna code\n",
    "                     \n",
    "#prathamesh\n",
    "df.at[5,'organs']=['brain']\n",
    "df.at[5,'systems']=['nervous system']\n",
    "\n",
    "df.at[7,'organs']=['adrenal gland']\n",
    "df.at[7,'systems']=['endocrine system']\n",
    "\n",
    "df.at[17,'organs']=['jaw']\n",
    "df.at[17,'systems']=['muscular system']\n",
    "\n",
    "df.at[32,'organs']=['uterus','vagina']\n",
    "df.at[32,'systems']=['reproductive system']\n",
    "\n",
    "df.at[41,'organs']=['appendix']  ###which system??\n",
    "df.at[41,'systems']=['digestive system']\n",
    "\n",
    "df.at[50,'organs']=['lungs']\n",
    "df.at[50,'systems']=['respiratory system']\n",
    "\n",
    "df.at[52,'organs']=['brain']\n",
    "df.at[52,'systems']=['nervous system']\n",
    "\n",
    "df.at[56,'organs']=['heart']\n",
    "df.at[56,'systems']=['circulatory system']\n",
    "\n",
    "df.at[57,'organs']=['brain']\n",
    "df.at[57,'systems']=['nervous system']\n",
    "\n",
    "df.at[58,'organs']=['brain']\n",
    "df.at[58,'systems']=['nervous system']\n",
    "\n",
    "df.at[60,'organs']=['breasts']#add breast as an organ of the reproductive system in the val_list\n",
    "df.at[60,'systems']=['reproductive system']\n",
    "\n",
    "df.at[63,'organs']=['heart']\n",
    "df.at[63,'systems']=['circulatory system']\n",
    "\n",
    "df.at[64,'organs']=['skin']\n",
    "df.at[64,'systems']=['integumentary system']\n",
    "\n",
    "df.at[72,'organs']=['adrenal gland']\n",
    "df.at[72,'systems']=['endocrine system']\n",
    "\n",
    "df.at[74,'organs']=['heart']\n",
    "df.at[74,'systems']=['circulatory system']\n",
    "\n",
    "df.at[78,'organs']=['stomach','small intestine','large intestine']\n",
    "df.at[78,'systems']=['digestive system']\n",
    "\n",
    "df.at[86,'organs']=['breats']#add breast as an organ of the reproductive system in the val_list\n",
    "df.at[86,'systems']=['reproductive system']\n",
    "\n",
    "df.at[87,'organs']=['ligament','joints']\n",
    "df.at[87,'systems']=['muscular system']\n",
    "\n",
    "df.at[88,'organs']=['ligament']\n",
    "df.at[88,'systems']=['muscular system']\n",
    "\n",
    "df.at[89,'organs']=['human skeleton','joint']\n",
    "df.at[89,'systems']=['muscular system']\n",
    "\n",
    "df.at[91,'organs']=['lungs']\n",
    "df.at[91,'systems']=['respiratory system']\n",
    "\n",
    "df.at[124,'organs']=['brain']\n",
    "df.at[124,'systems']=['nervous system']\n",
    "\n",
    "df.at[130,'organs']=['human skeleton','joints']\n",
    "df.at[130,'systems']=['muscular system']\n",
    "\n",
    "df.at[131,'organs']=['brain','pinal nerves']\n",
    "df.at[131,'systems']=['nervous system']\n",
    "\n",
    "df.at[132,'organs']=['brain']\n",
    "df.at[132,'systems']=['nervous system']\n",
    "\n",
    "df.at[133,'organs']=['brain']\n",
    "df.at[133,'systems']=['nervous system']\n",
    "\n",
    "df.at[144,'organs']=['large intestine']\n",
    "df.at[144,'systems']=['digestive system']\n",
    "\n",
    "df.at[147,'organs']=['lungs']\n",
    "df.at[147,'systems']=['respiratory system']\n",
    "\n",
    "df.at[148,'organs']=['muscular system']\n",
    "df.at[148,'systems']=['muscular system']\n",
    "\n",
    "df.at[152,'organs']=['heart']\n",
    "df.at[152,'systems']=['circulatory system']\n",
    "\n",
    "df.at[153,'organs']=['muscular system']\n",
    "df.at[153,'systems']=['muscular system']\n",
    "\n",
    "df.at[165,'organs']=['brain']\n",
    "df.at[165,'systems']=['nervous system']\n",
    "\n",
    "df.at[172,'organs']=['skin']\n",
    "df.at[172,'systems']=['integumentary system']\n",
    "\n",
    "df.at[173,'organs']=['UNKNOWN']#vomiting vala problem\n",
    "df.at[173,'systems']=['digestive system']\n",
    "\n",
    "df.at[185,'organs']=['brain']\n",
    "df.at[185,'systems']=['nervous system']\n",
    "\n",
    "df.at[190,'organs']=['muscular system']\n",
    "df.at[190,'systems']=['muscular system']\n",
    "\n",
    "df.at[191,'organs']=['ligament']\n",
    "df.at[191,'systems']=['muscular system']\n",
    "\n",
    "df.at[192,'organs']=['skin']\n",
    "df.at[192,'systems']=['integumentary system']\n",
    "\n",
    "df.at[200,'organs']=['UNKNOWN']#watery stools due to indigestion\n",
    "df.at[200,'systems']=['digestive system']\n",
    "\n",
    "df.at[206,'organs']=['stomach','large intestine']\n",
    "df.at[206,'systems']=['digestive system']\n",
    "\n",
    "df.at[208,'organs']=['heart']\n",
    "df.at[208,'systems']=['circulatory system']\n",
    "\n",
    "df.at[212,'organs']=['brain']#sleep deprivation\n",
    "df.at[212,'systems']=['nervous system']\n",
    "\n",
    "df.at[213,'organs']=['stomach','small intestine','pancreas'] \n",
    "df.at[213,'systems']=['digestive system']\n",
    "\n",
    "df.at[225,'organs']=['brain']\n",
    "df.at[225,'systems']=['nervous system']\n",
    "\n",
    "df.at[236,'organs']=['brain']\n",
    "df.at[236,'systems']=['nervous system']\n",
    "\n",
    "df.at[247,'organs']=['brain']\n",
    "df.at[247,'systems']=['nervous system']\n",
    "\n",
    "df.at[251,'organs']=['bones']\n",
    "df.at[251,'systems']=['muscular system']\n",
    "\n",
    "df.at[255,'organs']=['muscular system','human skeleton']\n",
    "df.at[255,'systems']=['muscular system']\n",
    "\n",
    "df.at[256,'organs']=['skin']\n",
    "df.at[256,'systems']=['integumentary system']\n",
    "\n",
    "df.at[270,'organs']=['breasts']\n",
    "df.at[270,'systems']=['reproductive system']\n",
    "\n",
    "#end of prathamesh code\n",
    "\n",
    "df.at[171,'organs']=['skin']\n",
    "df.at[171,'systems']=['integumentary system']\n",
    "\n",
    "df.at[390,'organs']=['parathyroid gland']\n",
    "df.at[390,'systems']=['endocrine system']\n",
    "\n",
    "df.at[987,'organs']=['stomach','intestine']\n",
    "df.at[987,'systems']=['digestive system']"
   ]
  },
  {
   "cell_type": "markdown",
   "metadata": {},
   "source": [
    "### Finding the final system"
   ]
  },
  {
   "cell_type": "code",
   "execution_count": 22,
   "metadata": {},
   "outputs": [],
   "source": [
    "df['final_system'] = [[] for _ in range(len(df))]"
   ]
  },
  {
   "cell_type": "code",
   "execution_count": 23,
   "metadata": {},
   "outputs": [],
   "source": [
    "from statistics import mode, StatisticsError"
   ]
  },
  {
   "cell_type": "code",
   "execution_count": 24,
   "metadata": {},
   "outputs": [],
   "source": [
    "for i in range(len(df)):\n",
    "    if(len(df.loc[i,'systems'])==0):\n",
    "        df.loc[i,'final_system']='no system'\n",
    "        continue\n",
    "    try:\n",
    "        var=mode(df['systems'][i])\n",
    "        df.loc[i,'final_system']=var\n",
    "    except StatisticsError:\n",
    "        df.loc[i,'final_system']='ambigious'"
   ]
  },
  {
   "cell_type": "code",
   "execution_count": 25,
   "metadata": {},
   "outputs": [
    {
     "data": {
      "text/html": [
       "<div>\n",
       "<style scoped>\n",
       "    .dataframe tbody tr th:only-of-type {\n",
       "        vertical-align: middle;\n",
       "    }\n",
       "\n",
       "    .dataframe tbody tr th {\n",
       "        vertical-align: top;\n",
       "    }\n",
       "\n",
       "    .dataframe thead th {\n",
       "        text-align: right;\n",
       "    }\n",
       "</style>\n",
       "<table border=\"1\" class=\"dataframe\">\n",
       "  <thead>\n",
       "    <tr style=\"text-align: right;\">\n",
       "      <th></th>\n",
       "      <th>name</th>\n",
       "      <th>symptoms</th>\n",
       "      <th>causes</th>\n",
       "      <th>risk_factor</th>\n",
       "      <th>overview</th>\n",
       "      <th>treatment</th>\n",
       "      <th>medication</th>\n",
       "      <th>home_remedies</th>\n",
       "      <th>class</th>\n",
       "      <th>organs</th>\n",
       "      <th>systems</th>\n",
       "      <th>final_system</th>\n",
       "    </tr>\n",
       "  </thead>\n",
       "  <tbody>\n",
       "    <tr>\n",
       "      <th>0</th>\n",
       "      <td>acanthosis nigricans</td>\n",
       "      <td>skin changes are the only signs of acanthosis ...</td>\n",
       "      <td>acanthosis nigricans has been associated with,...</td>\n",
       "      <td>acanthosis nigricans risk factors include, obe...</td>\n",
       "      <td>acanthosis nigricans is a skin condition that ...</td>\n",
       "      <td>in many situations, treating the underlying pr...</td>\n",
       "      <td></td>\n",
       "      <td></td>\n",
       "      <td>1</td>\n",
       "      <td>[stomach, pancreas, pancreas, skin]</td>\n",
       "      <td>[digestive system, digestive system, endocrine...</td>\n",
       "      <td>digestive system</td>\n",
       "    </tr>\n",
       "    <tr>\n",
       "      <th>1</th>\n",
       "      <td>achalasia</td>\n",
       "      <td></td>\n",
       "      <td></td>\n",
       "      <td></td>\n",
       "      <td>achalasia is a rare disorder that makes it dif...</td>\n",
       "      <td>achalasia treatment focuses on relaxing or for...</td>\n",
       "      <td></td>\n",
       "      <td></td>\n",
       "      <td>1</td>\n",
       "      <td>[mouth, esophagus, stomach, nerves]</td>\n",
       "      <td>[digestive system, digestive system, digestive...</td>\n",
       "      <td>digestive system</td>\n",
       "    </tr>\n",
       "    <tr>\n",
       "      <th>2</th>\n",
       "      <td>achilles tendon rupture</td>\n",
       "      <td>although its possible to have no signs or symp...</td>\n",
       "      <td>your achilles tendon helps you point your foot...</td>\n",
       "      <td>factors that may increase your risk of achille...</td>\n",
       "      <td>the achilles tendon is a strong fibrous cord t...</td>\n",
       "      <td>treatment for a ruptured achilles tendon often...</td>\n",
       "      <td></td>\n",
       "      <td></td>\n",
       "      <td>1</td>\n",
       "      <td>[tendons]</td>\n",
       "      <td>[muscular system]</td>\n",
       "      <td>muscular system</td>\n",
       "    </tr>\n",
       "    <tr>\n",
       "      <th>3</th>\n",
       "      <td>acute coronary syndrome</td>\n",
       "      <td>the signs and symptoms of acute coronary syndr...</td>\n",
       "      <td>acute coronary syndrome usually results from t...</td>\n",
       "      <td>the risk factors for acute coronary syndrome a...</td>\n",
       "      <td>acute coronary syndrome is a term used to desc...</td>\n",
       "      <td>the immediate goals of treatment for acute cor...</td>\n",
       "      <td>depending on your diagnosis, medications for e...</td>\n",
       "      <td>heart healthy lifestyle changes are an importa...</td>\n",
       "      <td>3</td>\n",
       "      <td>[heart]</td>\n",
       "      <td>[circulatory system]</td>\n",
       "      <td>circulatory system</td>\n",
       "    </tr>\n",
       "    <tr>\n",
       "      <th>4</th>\n",
       "      <td>adenomyosis</td>\n",
       "      <td>sometimes, adenomyosis causes no signs or symp...</td>\n",
       "      <td>the cause of adenomyosis isnt known. there hav...</td>\n",
       "      <td>risk factors for adenomyosis include, most cas...</td>\n",
       "      <td>with adenomyosis, the same tissue that lines t...</td>\n",
       "      <td>adenomyosis often goes away after menopause, s...</td>\n",
       "      <td></td>\n",
       "      <td>to ease pelvic pain and cramping related to ad...</td>\n",
       "      <td>4</td>\n",
       "      <td>[uterus]</td>\n",
       "      <td>[reproductive organs]</td>\n",
       "      <td>reproductive organs</td>\n",
       "    </tr>\n",
       "  </tbody>\n",
       "</table>\n",
       "</div>"
      ],
      "text/plain": [
       "                      name                                           symptoms  \\\n",
       "0     acanthosis nigricans  skin changes are the only signs of acanthosis ...   \n",
       "1                achalasia                                                      \n",
       "2  achilles tendon rupture  although its possible to have no signs or symp...   \n",
       "3  acute coronary syndrome  the signs and symptoms of acute coronary syndr...   \n",
       "4              adenomyosis  sometimes, adenomyosis causes no signs or symp...   \n",
       "\n",
       "                                              causes  \\\n",
       "0  acanthosis nigricans has been associated with,...   \n",
       "1                                                      \n",
       "2  your achilles tendon helps you point your foot...   \n",
       "3  acute coronary syndrome usually results from t...   \n",
       "4  the cause of adenomyosis isnt known. there hav...   \n",
       "\n",
       "                                         risk_factor  \\\n",
       "0  acanthosis nigricans risk factors include, obe...   \n",
       "1                                                      \n",
       "2  factors that may increase your risk of achille...   \n",
       "3  the risk factors for acute coronary syndrome a...   \n",
       "4  risk factors for adenomyosis include, most cas...   \n",
       "\n",
       "                                            overview  \\\n",
       "0  acanthosis nigricans is a skin condition that ...   \n",
       "1  achalasia is a rare disorder that makes it dif...   \n",
       "2  the achilles tendon is a strong fibrous cord t...   \n",
       "3  acute coronary syndrome is a term used to desc...   \n",
       "4  with adenomyosis, the same tissue that lines t...   \n",
       "\n",
       "                                           treatment  \\\n",
       "0  in many situations, treating the underlying pr...   \n",
       "1  achalasia treatment focuses on relaxing or for...   \n",
       "2  treatment for a ruptured achilles tendon often...   \n",
       "3  the immediate goals of treatment for acute cor...   \n",
       "4  adenomyosis often goes away after menopause, s...   \n",
       "\n",
       "                                          medication  \\\n",
       "0                                                      \n",
       "1                                                      \n",
       "2                                                      \n",
       "3  depending on your diagnosis, medications for e...   \n",
       "4                                                      \n",
       "\n",
       "                                       home_remedies  class  \\\n",
       "0                                                         1   \n",
       "1                                                         1   \n",
       "2                                                         1   \n",
       "3  heart healthy lifestyle changes are an importa...      3   \n",
       "4  to ease pelvic pain and cramping related to ad...      4   \n",
       "\n",
       "                                organs  \\\n",
       "0  [stomach, pancreas, pancreas, skin]   \n",
       "1  [mouth, esophagus, stomach, nerves]   \n",
       "2                            [tendons]   \n",
       "3                              [heart]   \n",
       "4                             [uterus]   \n",
       "\n",
       "                                             systems         final_system  \n",
       "0  [digestive system, digestive system, endocrine...     digestive system  \n",
       "1  [digestive system, digestive system, digestive...     digestive system  \n",
       "2                                  [muscular system]      muscular system  \n",
       "3                               [circulatory system]   circulatory system  \n",
       "4                              [reproductive organs]  reproductive organs  "
      ]
     },
     "execution_count": 25,
     "metadata": {},
     "output_type": "execute_result"
    }
   ],
   "source": [
    "df.head()"
   ]
  },
  {
   "cell_type": "markdown",
   "metadata": {},
   "source": [
    "To check if there is any empty entry in 'systems' column"
   ]
  },
  {
   "cell_type": "code",
   "execution_count": 26,
   "metadata": {},
   "outputs": [],
   "source": [
    "# temp=[]\n",
    "\n",
    "# for i in range(len(df)):\n",
    "#     if(len(df.loc[i,'systems'])==0):\n",
    "#         temp.append(True)\n",
    "#     else:\n",
    "#         temp.append(False)"
   ]
  },
  {
   "cell_type": "code",
   "execution_count": 27,
   "metadata": {},
   "outputs": [],
   "source": [
    "# df[temp]"
   ]
  },
  {
   "cell_type": "markdown",
   "metadata": {},
   "source": [
    "### Creating a column 'input' having concatenated entries of 'symptoms'+'causes'+'risk_factor'+'overview'"
   ]
  },
  {
   "cell_type": "code",
   "execution_count": 28,
   "metadata": {},
   "outputs": [],
   "source": [
    "test_df=df.copy()"
   ]
  },
  {
   "cell_type": "code",
   "execution_count": 29,
   "metadata": {},
   "outputs": [],
   "source": [
    "test_df['input']=''"
   ]
  },
  {
   "cell_type": "code",
   "execution_count": 30,
   "metadata": {},
   "outputs": [],
   "source": [
    "for i in range(len(test_df)):\n",
    "    test_df.loc[i,'input']=test_df.loc[i,'symptoms']+test_df.loc[i,'causes']+test_df.loc[i,'risk_factor']+test_df.loc[i,'overview']"
   ]
  },
  {
   "cell_type": "code",
   "execution_count": 31,
   "metadata": {
    "scrolled": true
   },
   "outputs": [
    {
     "data": {
      "text/html": [
       "<div>\n",
       "<style scoped>\n",
       "    .dataframe tbody tr th:only-of-type {\n",
       "        vertical-align: middle;\n",
       "    }\n",
       "\n",
       "    .dataframe tbody tr th {\n",
       "        vertical-align: top;\n",
       "    }\n",
       "\n",
       "    .dataframe thead th {\n",
       "        text-align: right;\n",
       "    }\n",
       "</style>\n",
       "<table border=\"1\" class=\"dataframe\">\n",
       "  <thead>\n",
       "    <tr style=\"text-align: right;\">\n",
       "      <th></th>\n",
       "      <th>name</th>\n",
       "      <th>symptoms</th>\n",
       "      <th>causes</th>\n",
       "      <th>risk_factor</th>\n",
       "      <th>overview</th>\n",
       "      <th>treatment</th>\n",
       "      <th>medication</th>\n",
       "      <th>home_remedies</th>\n",
       "      <th>class</th>\n",
       "      <th>organs</th>\n",
       "      <th>systems</th>\n",
       "      <th>final_system</th>\n",
       "      <th>input</th>\n",
       "    </tr>\n",
       "  </thead>\n",
       "  <tbody>\n",
       "    <tr>\n",
       "      <th>0</th>\n",
       "      <td>acanthosis nigricans</td>\n",
       "      <td>skin changes are the only signs of acanthosis ...</td>\n",
       "      <td>acanthosis nigricans has been associated with,...</td>\n",
       "      <td>acanthosis nigricans risk factors include, obe...</td>\n",
       "      <td>acanthosis nigricans is a skin condition that ...</td>\n",
       "      <td>in many situations, treating the underlying pr...</td>\n",
       "      <td></td>\n",
       "      <td></td>\n",
       "      <td>1</td>\n",
       "      <td>[stomach, pancreas, pancreas, skin]</td>\n",
       "      <td>[digestive system, digestive system, endocrine...</td>\n",
       "      <td>digestive system</td>\n",
       "      <td>skin changes are the only signs of acanthosis ...</td>\n",
       "    </tr>\n",
       "    <tr>\n",
       "      <th>1</th>\n",
       "      <td>achalasia</td>\n",
       "      <td></td>\n",
       "      <td></td>\n",
       "      <td></td>\n",
       "      <td>achalasia is a rare disorder that makes it dif...</td>\n",
       "      <td>achalasia treatment focuses on relaxing or for...</td>\n",
       "      <td></td>\n",
       "      <td></td>\n",
       "      <td>1</td>\n",
       "      <td>[mouth, esophagus, stomach, nerves]</td>\n",
       "      <td>[digestive system, digestive system, digestive...</td>\n",
       "      <td>digestive system</td>\n",
       "      <td>achalasia is a rare disorder that makes it dif...</td>\n",
       "    </tr>\n",
       "    <tr>\n",
       "      <th>2</th>\n",
       "      <td>achilles tendon rupture</td>\n",
       "      <td>although its possible to have no signs or symp...</td>\n",
       "      <td>your achilles tendon helps you point your foot...</td>\n",
       "      <td>factors that may increase your risk of achille...</td>\n",
       "      <td>the achilles tendon is a strong fibrous cord t...</td>\n",
       "      <td>treatment for a ruptured achilles tendon often...</td>\n",
       "      <td></td>\n",
       "      <td></td>\n",
       "      <td>1</td>\n",
       "      <td>[tendons]</td>\n",
       "      <td>[muscular system]</td>\n",
       "      <td>muscular system</td>\n",
       "      <td>although its possible to have no signs or symp...</td>\n",
       "    </tr>\n",
       "    <tr>\n",
       "      <th>3</th>\n",
       "      <td>acute coronary syndrome</td>\n",
       "      <td>the signs and symptoms of acute coronary syndr...</td>\n",
       "      <td>acute coronary syndrome usually results from t...</td>\n",
       "      <td>the risk factors for acute coronary syndrome a...</td>\n",
       "      <td>acute coronary syndrome is a term used to desc...</td>\n",
       "      <td>the immediate goals of treatment for acute cor...</td>\n",
       "      <td>depending on your diagnosis, medications for e...</td>\n",
       "      <td>heart healthy lifestyle changes are an importa...</td>\n",
       "      <td>3</td>\n",
       "      <td>[heart]</td>\n",
       "      <td>[circulatory system]</td>\n",
       "      <td>circulatory system</td>\n",
       "      <td>the signs and symptoms of acute coronary syndr...</td>\n",
       "    </tr>\n",
       "    <tr>\n",
       "      <th>4</th>\n",
       "      <td>adenomyosis</td>\n",
       "      <td>sometimes, adenomyosis causes no signs or symp...</td>\n",
       "      <td>the cause of adenomyosis isnt known. there hav...</td>\n",
       "      <td>risk factors for adenomyosis include, most cas...</td>\n",
       "      <td>with adenomyosis, the same tissue that lines t...</td>\n",
       "      <td>adenomyosis often goes away after menopause, s...</td>\n",
       "      <td></td>\n",
       "      <td>to ease pelvic pain and cramping related to ad...</td>\n",
       "      <td>4</td>\n",
       "      <td>[uterus]</td>\n",
       "      <td>[reproductive organs]</td>\n",
       "      <td>reproductive organs</td>\n",
       "      <td>sometimes, adenomyosis causes no signs or symp...</td>\n",
       "    </tr>\n",
       "  </tbody>\n",
       "</table>\n",
       "</div>"
      ],
      "text/plain": [
       "                      name                                           symptoms  \\\n",
       "0     acanthosis nigricans  skin changes are the only signs of acanthosis ...   \n",
       "1                achalasia                                                      \n",
       "2  achilles tendon rupture  although its possible to have no signs or symp...   \n",
       "3  acute coronary syndrome  the signs and symptoms of acute coronary syndr...   \n",
       "4              adenomyosis  sometimes, adenomyosis causes no signs or symp...   \n",
       "\n",
       "                                              causes  \\\n",
       "0  acanthosis nigricans has been associated with,...   \n",
       "1                                                      \n",
       "2  your achilles tendon helps you point your foot...   \n",
       "3  acute coronary syndrome usually results from t...   \n",
       "4  the cause of adenomyosis isnt known. there hav...   \n",
       "\n",
       "                                         risk_factor  \\\n",
       "0  acanthosis nigricans risk factors include, obe...   \n",
       "1                                                      \n",
       "2  factors that may increase your risk of achille...   \n",
       "3  the risk factors for acute coronary syndrome a...   \n",
       "4  risk factors for adenomyosis include, most cas...   \n",
       "\n",
       "                                            overview  \\\n",
       "0  acanthosis nigricans is a skin condition that ...   \n",
       "1  achalasia is a rare disorder that makes it dif...   \n",
       "2  the achilles tendon is a strong fibrous cord t...   \n",
       "3  acute coronary syndrome is a term used to desc...   \n",
       "4  with adenomyosis, the same tissue that lines t...   \n",
       "\n",
       "                                           treatment  \\\n",
       "0  in many situations, treating the underlying pr...   \n",
       "1  achalasia treatment focuses on relaxing or for...   \n",
       "2  treatment for a ruptured achilles tendon often...   \n",
       "3  the immediate goals of treatment for acute cor...   \n",
       "4  adenomyosis often goes away after menopause, s...   \n",
       "\n",
       "                                          medication  \\\n",
       "0                                                      \n",
       "1                                                      \n",
       "2                                                      \n",
       "3  depending on your diagnosis, medications for e...   \n",
       "4                                                      \n",
       "\n",
       "                                       home_remedies  class  \\\n",
       "0                                                         1   \n",
       "1                                                         1   \n",
       "2                                                         1   \n",
       "3  heart healthy lifestyle changes are an importa...      3   \n",
       "4  to ease pelvic pain and cramping related to ad...      4   \n",
       "\n",
       "                                organs  \\\n",
       "0  [stomach, pancreas, pancreas, skin]   \n",
       "1  [mouth, esophagus, stomach, nerves]   \n",
       "2                            [tendons]   \n",
       "3                              [heart]   \n",
       "4                             [uterus]   \n",
       "\n",
       "                                             systems         final_system  \\\n",
       "0  [digestive system, digestive system, endocrine...     digestive system   \n",
       "1  [digestive system, digestive system, digestive...     digestive system   \n",
       "2                                  [muscular system]      muscular system   \n",
       "3                               [circulatory system]   circulatory system   \n",
       "4                              [reproductive organs]  reproductive organs   \n",
       "\n",
       "                                               input  \n",
       "0  skin changes are the only signs of acanthosis ...  \n",
       "1  achalasia is a rare disorder that makes it dif...  \n",
       "2  although its possible to have no signs or symp...  \n",
       "3  the signs and symptoms of acute coronary syndr...  \n",
       "4  sometimes, adenomyosis causes no signs or symp...  "
      ]
     },
     "execution_count": 31,
     "metadata": {},
     "output_type": "execute_result"
    }
   ],
   "source": [
    "test_df.head()"
   ]
  },
  {
   "cell_type": "markdown",
   "metadata": {},
   "source": [
    "## Training The Dataset"
   ]
  },
  {
   "cell_type": "markdown",
   "metadata": {},
   "source": [
    "#### Some preprocessing before building the model"
   ]
  },
  {
   "cell_type": "markdown",
   "metadata": {},
   "source": [
    "Following are the counts of each class in the entire dataset:"
   ]
  },
  {
   "cell_type": "code",
   "execution_count": 32,
   "metadata": {},
   "outputs": [
    {
     "data": {
      "text/plain": [
       "1    509\n",
       "4    379\n",
       "3    191\n",
       "2    103\n",
       "Name: class, dtype: int64"
      ]
     },
     "execution_count": 32,
     "metadata": {},
     "output_type": "execute_result"
    }
   ],
   "source": [
    "test_df['class'].value_counts()"
   ]
  },
  {
   "cell_type": "code",
   "execution_count": 33,
   "metadata": {},
   "outputs": [],
   "source": [
    "# from sklearn.model_selection import train_test_split"
   ]
  },
  {
   "cell_type": "code",
   "execution_count": 34,
   "metadata": {},
   "outputs": [],
   "source": [
    "# X_train,X_test,Y_train,Y_test=train_test_split(test_df['input'],test_df['class'],test_size=0.2,random_state=1)"
   ]
  },
  {
   "cell_type": "code",
   "execution_count": 35,
   "metadata": {},
   "outputs": [],
   "source": [
    "x=test_df['input'].values"
   ]
  },
  {
   "cell_type": "code",
   "execution_count": 36,
   "metadata": {},
   "outputs": [],
   "source": [
    "y=test_df['class'].values"
   ]
  },
  {
   "cell_type": "markdown",
   "metadata": {},
   "source": [
    "### Splitting the data into train and test sets using Stratified sampling"
   ]
  },
  {
   "cell_type": "code",
   "execution_count": 37,
   "metadata": {},
   "outputs": [],
   "source": [
    "from sklearn.model_selection import StratifiedShuffleSplit"
   ]
  },
  {
   "cell_type": "code",
   "execution_count": 38,
   "metadata": {},
   "outputs": [],
   "source": [
    "sss = StratifiedShuffleSplit(n_splits=10, test_size=0.2, random_state=1)"
   ]
  },
  {
   "cell_type": "code",
   "execution_count": 39,
   "metadata": {},
   "outputs": [],
   "source": [
    "for train_index,test_index in sss.split(x,y):\n",
    "    X_train,X_test=x[train_index],x[test_index]\n",
    "    Y_train,Y_test=y[train_index],y[test_index]"
   ]
  },
  {
   "cell_type": "markdown",
   "metadata": {},
   "source": [
    "The next 3 cells are used to know the count of each class after stratified split"
   ]
  },
  {
   "cell_type": "code",
   "execution_count": 40,
   "metadata": {},
   "outputs": [],
   "source": [
    "# class1_count=0\n",
    "# class2_count=0\n",
    "# class3_count=0\n",
    "# class4_count=0"
   ]
  },
  {
   "cell_type": "code",
   "execution_count": 41,
   "metadata": {},
   "outputs": [],
   "source": [
    "# for i in range(len(Y_train)):\n",
    "#     if(Y_train[i]==1):\n",
    "#         class1_count+=1\n",
    "#     elif(Y_train[i]==2):\n",
    "#         class2_count+=1\n",
    "#     elif(Y_train[i]==3):\n",
    "#         class3_count+=1\n",
    "#     else:\n",
    "#         class4_count+=1"
   ]
  },
  {
   "cell_type": "code",
   "execution_count": 42,
   "metadata": {},
   "outputs": [],
   "source": [
    "# print('class1_count: ',class1_count)\n",
    "# print('class2_count: ',class2_count)\n",
    "# print('class3_count: ',class3_count)\n",
    "# print('class4_count: ',class4_count)"
   ]
  },
  {
   "cell_type": "markdown",
   "metadata": {},
   "source": [
    "### Making string data suitable for modelling using TFIDF"
   ]
  },
  {
   "cell_type": "code",
   "execution_count": 43,
   "metadata": {},
   "outputs": [],
   "source": [
    "from sklearn.feature_extraction.text import CountVectorizer"
   ]
  },
  {
   "cell_type": "code",
   "execution_count": 44,
   "metadata": {},
   "outputs": [],
   "source": [
    "count_vect = CountVectorizer().fit(X_train)"
   ]
  },
  {
   "cell_type": "code",
   "execution_count": 45,
   "metadata": {},
   "outputs": [
    {
     "data": {
      "text/plain": [
       "(945, 16439)"
      ]
     },
     "execution_count": 45,
     "metadata": {},
     "output_type": "execute_result"
    }
   ],
   "source": [
    "X_train_counts = count_vect.transform(X_train)\n",
    "X_train_counts.shape"
   ]
  },
  {
   "cell_type": "code",
   "execution_count": 46,
   "metadata": {},
   "outputs": [],
   "source": [
    "# TF-IDF\n",
    "from sklearn.feature_extraction.text import TfidfTransformer\n",
    "tfidf_transformer = TfidfTransformer().fit(X_train_counts)"
   ]
  },
  {
   "cell_type": "code",
   "execution_count": 47,
   "metadata": {},
   "outputs": [
    {
     "data": {
      "text/plain": [
       "(945, 16439)"
      ]
     },
     "execution_count": 47,
     "metadata": {},
     "output_type": "execute_result"
    }
   ],
   "source": [
    "X_train_tfidf = tfidf_transformer.transform(X_train_counts)\n",
    "X_train_tfidf.shape"
   ]
  },
  {
   "cell_type": "code",
   "execution_count": 48,
   "metadata": {},
   "outputs": [
    {
     "data": {
      "text/plain": [
       "(237, 16439)"
      ]
     },
     "execution_count": 48,
     "metadata": {},
     "output_type": "execute_result"
    }
   ],
   "source": [
    "X_test_counts = count_vect.transform(X_test)\n",
    "X_test_counts.shape"
   ]
  },
  {
   "cell_type": "code",
   "execution_count": 49,
   "metadata": {},
   "outputs": [
    {
     "data": {
      "text/plain": [
       "(237, 16439)"
      ]
     },
     "execution_count": 49,
     "metadata": {},
     "output_type": "execute_result"
    }
   ],
   "source": [
    "X_test_tfidf = tfidf_transformer.transform(X_test_counts)\n",
    "X_test_tfidf.shape"
   ]
  },
  {
   "cell_type": "markdown",
   "metadata": {},
   "source": [
    "## Modelling the data using various clasification models"
   ]
  },
  {
   "cell_type": "markdown",
   "metadata": {},
   "source": [
    "## Using Logistic Regression"
   ]
  },
  {
   "cell_type": "code",
   "execution_count": 50,
   "metadata": {},
   "outputs": [],
   "source": [
    "from sklearn.linear_model import LogisticRegression"
   ]
  },
  {
   "cell_type": "code",
   "execution_count": 51,
   "metadata": {},
   "outputs": [],
   "source": [
    "logistic_clf=LogisticRegression(C=0.01,solver='liblinear',multi_class='auto').fit(X_train_tfidf,Y_train)"
   ]
  },
  {
   "cell_type": "code",
   "execution_count": 52,
   "metadata": {},
   "outputs": [],
   "source": [
    "logistic_predicted=logistic_clf.predict(X_test_tfidf)"
   ]
  },
  {
   "cell_type": "code",
   "execution_count": 53,
   "metadata": {},
   "outputs": [],
   "source": [
    "# # Building a pipeline: We can write less code and do all of the above, by building a pipeline as follows:\n",
    "# # The names ‘vect’ , ‘tfidf’ and ‘clf’ are arbitrary but will be used later.\n",
    "# # We will be using the 'text_clf' going forward.\n",
    "# from sklearn.pipeline import Pipeline\n",
    "\n",
    "# text_clf = Pipeline([('vect', CountVectorizer()), ('tfidf', TfidfTransformer()), ('classifier', LogisticRegression(C=0.01,solver='liblinear',multi_class='auto'))])\n",
    "\n",
    "# text_clf = text_clf.fit(X_train, Y_train)"
   ]
  },
  {
   "cell_type": "code",
   "execution_count": 54,
   "metadata": {},
   "outputs": [],
   "source": [
    "# predicted = text_clf.predict(X_test)"
   ]
  },
  {
   "cell_type": "code",
   "execution_count": 55,
   "metadata": {},
   "outputs": [],
   "source": [
    "from sklearn import metrics"
   ]
  },
  {
   "cell_type": "code",
   "execution_count": 56,
   "metadata": {},
   "outputs": [],
   "source": [
    "from sklearn.metrics import confusion_matrix"
   ]
  },
  {
   "cell_type": "code",
   "execution_count": 57,
   "metadata": {},
   "outputs": [],
   "source": [
    "logistic_cm=confusion_matrix(Y_test,logistic_predicted)"
   ]
  },
  {
   "cell_type": "code",
   "execution_count": 58,
   "metadata": {},
   "outputs": [
    {
     "data": {
      "text/plain": [
       "array([[102,   0,   0,   0],\n",
       "       [ 21,   0,   0,   0],\n",
       "       [ 38,   0,   0,   0],\n",
       "       [ 76,   0,   0,   0]], dtype=int64)"
      ]
     },
     "execution_count": 58,
     "metadata": {},
     "output_type": "execute_result"
    }
   ],
   "source": [
    "logistic_cm"
   ]
  },
  {
   "cell_type": "code",
   "execution_count": 59,
   "metadata": {},
   "outputs": [],
   "source": [
    "from sklearn.metrics import jaccard_score"
   ]
  },
  {
   "cell_type": "code",
   "execution_count": 60,
   "metadata": {},
   "outputs": [],
   "source": [
    "# jaccard_score?"
   ]
  },
  {
   "cell_type": "code",
   "execution_count": 61,
   "metadata": {},
   "outputs": [
    {
     "data": {
      "text/plain": [
       "0.18522672648614005"
      ]
     },
     "execution_count": 61,
     "metadata": {},
     "output_type": "execute_result"
    }
   ],
   "source": [
    "jaccard_score(Y_test,logistic_predicted,average='weighted')"
   ]
  },
  {
   "cell_type": "code",
   "execution_count": 62,
   "metadata": {},
   "outputs": [],
   "source": [
    "from sklearn.metrics import classification_report"
   ]
  },
  {
   "cell_type": "code",
   "execution_count": 63,
   "metadata": {},
   "outputs": [
    {
     "data": {
      "text/plain": [
       "array([1, 1, 1, 1, 1, 1, 1, 1, 1, 1, 1, 1, 1, 1, 1, 1, 1, 1, 1, 1, 1, 1,\n",
       "       1, 1, 1, 1, 1, 1, 1, 1, 1, 1, 1, 1, 1, 1, 1, 1, 1, 1, 1, 1, 1, 1,\n",
       "       1, 1, 1, 1, 1, 1, 1, 1, 1, 1, 1, 1, 1, 1, 1, 1, 1, 1, 1, 1, 1, 1,\n",
       "       1, 1, 1, 1, 1, 1, 1, 1, 1, 1, 1, 1, 1, 1, 1, 1, 1, 1, 1, 1, 1, 1,\n",
       "       1, 1, 1, 1, 1, 1, 1, 1, 1, 1, 1, 1, 1, 1, 1, 1, 1, 1, 1, 1, 1, 1,\n",
       "       1, 1, 1, 1, 1, 1, 1, 1, 1, 1, 1, 1, 1, 1, 1, 1, 1, 1, 1, 1, 1, 1,\n",
       "       1, 1, 1, 1, 1, 1, 1, 1, 1, 1, 1, 1, 1, 1, 1, 1, 1, 1, 1, 1, 1, 1,\n",
       "       1, 1, 1, 1, 1, 1, 1, 1, 1, 1, 1, 1, 1, 1, 1, 1, 1, 1, 1, 1, 1, 1,\n",
       "       1, 1, 1, 1, 1, 1, 1, 1, 1, 1, 1, 1, 1, 1, 1, 1, 1, 1, 1, 1, 1, 1,\n",
       "       1, 1, 1, 1, 1, 1, 1, 1, 1, 1, 1, 1, 1, 1, 1, 1, 1, 1, 1, 1, 1, 1,\n",
       "       1, 1, 1, 1, 1, 1, 1, 1, 1, 1, 1, 1, 1, 1, 1, 1, 1], dtype=int64)"
      ]
     },
     "execution_count": 63,
     "metadata": {},
     "output_type": "execute_result"
    }
   ],
   "source": [
    "logistic_predicted"
   ]
  },
  {
   "cell_type": "markdown",
   "metadata": {},
   "source": [
    "#### The next cell can throw a warning, simply execute it again to remove the warning"
   ]
  },
  {
   "cell_type": "code",
   "execution_count": 134,
   "metadata": {},
   "outputs": [
    {
     "name": "stdout",
     "output_type": "stream",
     "text": [
      "              precision    recall  f1-score   support\n",
      "\n",
      "           1       0.43      1.00      0.60       102\n",
      "           2       0.00      0.00      0.00        21\n",
      "           3       0.00      0.00      0.00        38\n",
      "           4       0.00      0.00      0.00        76\n",
      "\n",
      "    accuracy                           0.43       237\n",
      "   macro avg       0.11      0.25      0.15       237\n",
      "weighted avg       0.19      0.43      0.26       237\n",
      "\n"
     ]
    }
   ],
   "source": [
    "print (classification_report(Y_test, logistic_predicted))"
   ]
  },
  {
   "cell_type": "code",
   "execution_count": 65,
   "metadata": {},
   "outputs": [
    {
     "data": {
      "text/plain": [
       "0.43037974683544306"
      ]
     },
     "execution_count": 65,
     "metadata": {},
     "output_type": "execute_result"
    }
   ],
   "source": [
    "logistic_accuracy=metrics.accuracy_score(Y_test,logistic_predicted)\n",
    "logistic_accuracy"
   ]
  },
  {
   "cell_type": "code",
   "execution_count": 133,
   "metadata": {},
   "outputs": [
    {
     "data": {
      "text/plain": [
       "0.2589895821664613"
      ]
     },
     "execution_count": 133,
     "metadata": {},
     "output_type": "execute_result"
    }
   ],
   "source": [
    "metrics.f1_score(Y_test,logistic_predicted,average='weighted')"
   ]
  },
  {
   "cell_type": "markdown",
   "metadata": {},
   "source": [
    "## Using Naive Bayes"
   ]
  },
  {
   "cell_type": "code",
   "execution_count": 67,
   "metadata": {},
   "outputs": [],
   "source": [
    "from sklearn.naive_bayes import MultinomialNB"
   ]
  },
  {
   "cell_type": "code",
   "execution_count": 68,
   "metadata": {},
   "outputs": [],
   "source": [
    "naive_bayes_clf = MultinomialNB().fit(X_train_tfidf, Y_train)"
   ]
  },
  {
   "cell_type": "code",
   "execution_count": 69,
   "metadata": {},
   "outputs": [],
   "source": [
    "naive_bayes_predicted=naive_bayes_clf.predict(X_test_tfidf)"
   ]
  },
  {
   "cell_type": "code",
   "execution_count": 70,
   "metadata": {},
   "outputs": [
    {
     "data": {
      "text/plain": [
       "array([4, 1, 1, 1, 4, 1, 1, 1, 1, 1, 1, 1, 1, 1, 4, 4, 1, 1, 1, 1, 1, 1,\n",
       "       1, 1, 1, 1, 1, 1, 1, 1, 1, 1, 1, 4, 1, 4, 1, 1, 1, 1, 1, 4, 1, 1,\n",
       "       1, 4, 1, 1, 4, 1, 1, 1, 1, 1, 1, 1, 1, 1, 1, 4, 1, 1, 1, 4, 1, 1,\n",
       "       1, 1, 1, 1, 1, 1, 1, 4, 1, 4, 1, 1, 1, 1, 1, 1, 1, 4, 1, 1, 1, 1,\n",
       "       1, 1, 1, 1, 1, 1, 1, 4, 1, 1, 1, 1, 1, 1, 1, 4, 1, 1, 1, 1, 4, 4,\n",
       "       1, 1, 1, 1, 1, 1, 1, 1, 1, 4, 1, 1, 1, 1, 4, 1, 1, 1, 4, 1, 4, 1,\n",
       "       4, 4, 1, 1, 1, 4, 1, 4, 1, 1, 1, 1, 1, 1, 1, 1, 1, 1, 1, 1, 4, 4,\n",
       "       1, 1, 1, 1, 4, 1, 4, 1, 1, 1, 1, 1, 1, 1, 1, 1, 4, 1, 1, 1, 1, 1,\n",
       "       1, 4, 1, 1, 4, 1, 1, 4, 1, 1, 1, 1, 1, 1, 1, 1, 4, 1, 1, 1, 1, 1,\n",
       "       1, 1, 4, 1, 4, 1, 1, 1, 1, 1, 1, 1, 4, 1, 1, 1, 1, 1, 1, 1, 1, 1,\n",
       "       1, 1, 1, 1, 1, 4, 1, 1, 1, 1, 1, 1, 1, 1, 4, 1, 1], dtype=int64)"
      ]
     },
     "execution_count": 70,
     "metadata": {},
     "output_type": "execute_result"
    }
   ],
   "source": [
    "naive_bayes_predicted"
   ]
  },
  {
   "cell_type": "code",
   "execution_count": 71,
   "metadata": {},
   "outputs": [
    {
     "data": {
      "text/plain": [
       "0.24634530963644885"
      ]
     },
     "execution_count": 71,
     "metadata": {},
     "output_type": "execute_result"
    }
   ],
   "source": [
    "jaccard_score(Y_test,naive_bayes_predicted,average='weighted')"
   ]
  },
  {
   "cell_type": "markdown",
   "metadata": {},
   "source": [
    "#### The next cell can throw a warning, simply execute it again to remove the warning"
   ]
  },
  {
   "cell_type": "code",
   "execution_count": 132,
   "metadata": {},
   "outputs": [
    {
     "name": "stdout",
     "output_type": "stream",
     "text": [
      "              precision    recall  f1-score   support\n",
      "\n",
      "           1       0.47      0.90      0.62       102\n",
      "           2       0.00      0.00      0.00        21\n",
      "           3       0.00      0.00      0.00        38\n",
      "           4       0.42      0.22      0.29        76\n",
      "\n",
      "    accuracy                           0.46       237\n",
      "   macro avg       0.22      0.28      0.23       237\n",
      "weighted avg       0.34      0.46      0.36       237\n",
      "\n"
     ]
    }
   ],
   "source": [
    "print (classification_report(Y_test, naive_bayes_predicted))"
   ]
  },
  {
   "cell_type": "code",
   "execution_count": 73,
   "metadata": {},
   "outputs": [],
   "source": [
    "naive_bayes_cm=confusion_matrix(Y_test,naive_bayes_predicted)"
   ]
  },
  {
   "cell_type": "code",
   "execution_count": 74,
   "metadata": {},
   "outputs": [
    {
     "data": {
      "text/plain": [
       "array([[92,  0,  0, 10],\n",
       "       [18,  0,  0,  3],\n",
       "       [28,  0,  0, 10],\n",
       "       [59,  0,  0, 17]], dtype=int64)"
      ]
     },
     "execution_count": 74,
     "metadata": {},
     "output_type": "execute_result"
    }
   ],
   "source": [
    "naive_bayes_cm"
   ]
  },
  {
   "cell_type": "code",
   "execution_count": 75,
   "metadata": {},
   "outputs": [
    {
     "data": {
      "text/plain": [
       "0.459915611814346"
      ]
     },
     "execution_count": 75,
     "metadata": {},
     "output_type": "execute_result"
    }
   ],
   "source": [
    "naive_bayes_accuracy=metrics.accuracy_score(Y_test,naive_bayes_predicted)\n",
    "naive_bayes_accuracy"
   ]
  },
  {
   "cell_type": "code",
   "execution_count": 131,
   "metadata": {},
   "outputs": [
    {
     "data": {
      "text/plain": [
       "0.3588400541696046"
      ]
     },
     "execution_count": 131,
     "metadata": {},
     "output_type": "execute_result"
    }
   ],
   "source": [
    "metrics.f1_score(Y_test,naive_bayes_predicted,average='weighted')"
   ]
  },
  {
   "cell_type": "markdown",
   "metadata": {},
   "source": [
    "## Using K-Nearest Neighbors"
   ]
  },
  {
   "cell_type": "code",
   "execution_count": 77,
   "metadata": {},
   "outputs": [],
   "source": [
    "from sklearn.neighbors import KNeighborsClassifier"
   ]
  },
  {
   "cell_type": "markdown",
   "metadata": {},
   "source": [
    "### First we need to check which value of k will give best results"
   ]
  },
  {
   "cell_type": "code",
   "execution_count": 78,
   "metadata": {},
   "outputs": [
    {
     "data": {
      "text/plain": [
       "array([0.44725738, 0.45147679, 0.46835443, 0.4556962 , 0.43881857,\n",
       "       0.43459916, 0.43459916, 0.43459916, 0.43881857])"
      ]
     },
     "execution_count": 78,
     "metadata": {},
     "output_type": "execute_result"
    }
   ],
   "source": [
    "k_max=10\n",
    "\n",
    "mean_acc=np.zeros((k_max-1))\n",
    "\n",
    "for i in range(1,k_max):\n",
    "    knn_clf_test=KNeighborsClassifier(n_neighbors=i).fit(X_train_tfidf,Y_train)\n",
    "    knn_test_predicted=knn_clf_test.predict(X_test_tfidf)\n",
    "    \n",
    "    mean_acc[i-1]=metrics.accuracy_score(Y_test,knn_test_predicted)\n",
    "    \n",
    "mean_acc"
   ]
  },
  {
   "cell_type": "code",
   "execution_count": 79,
   "metadata": {},
   "outputs": [],
   "source": [
    "import matplotlib.pyplot as plt"
   ]
  },
  {
   "cell_type": "code",
   "execution_count": 80,
   "metadata": {},
   "outputs": [
    {
     "data": {
      "image/png": "[encoded data removed]",
      "text/plain": [
       "<Figure size 432x288 with 1 Axes>"
      ]
     },
     "metadata": {
      "needs_background": "light"
     },
     "output_type": "display_data"
    }
   ],
   "source": [
    "plt.figure()\n",
    "plt.plot(np.arange(1,10),mean_acc)\n",
    "plt.xlabel('Value of k')\n",
    "plt.ylabel('accuracy')\n",
    "plt.show()"
   ]
  },
  {
   "cell_type": "markdown",
   "metadata": {},
   "source": [
    "### Using k=4 as per results from above graph"
   ]
  },
  {
   "cell_type": "code",
   "execution_count": 81,
   "metadata": {},
   "outputs": [],
   "source": [
    "neighbors=4"
   ]
  },
  {
   "cell_type": "code",
   "execution_count": 82,
   "metadata": {},
   "outputs": [],
   "source": [
    "knn_clf=KNeighborsClassifier(n_neighbors=neighbors).fit(X_train_tfidf,Y_train)"
   ]
  },
  {
   "cell_type": "code",
   "execution_count": 83,
   "metadata": {},
   "outputs": [],
   "source": [
    "knn_predicted=knn_clf.predict(X_test_tfidf)"
   ]
  },
  {
   "cell_type": "code",
   "execution_count": 84,
   "metadata": {},
   "outputs": [
    {
     "data": {
      "text/plain": [
       "array([1, 1, 1, 1, 1, 1, 1, 1, 1, 1, 1, 1, 1, 1, 1, 4, 1, 1, 1, 1, 1, 1,\n",
       "       1, 1, 1, 1, 1, 1, 1, 1, 1, 1, 1, 1, 1, 1, 1, 1, 1, 1, 1, 1, 1, 3,\n",
       "       1, 1, 1, 1, 1, 1, 3, 1, 1, 1, 1, 1, 1, 1, 1, 1, 1, 1, 1, 1, 1, 1,\n",
       "       1, 1, 1, 1, 1, 1, 4, 4, 1, 4, 1, 1, 1, 1, 1, 1, 1, 1, 1, 1, 1, 1,\n",
       "       1, 1, 1, 1, 1, 1, 1, 3, 1, 1, 1, 1, 1, 1, 1, 3, 1, 1, 1, 1, 4, 1,\n",
       "       1, 3, 1, 1, 1, 1, 1, 1, 1, 4, 1, 4, 1, 1, 4, 3, 1, 1, 1, 1, 4, 1,\n",
       "       1, 1, 1, 1, 1, 1, 1, 3, 1, 1, 1, 1, 1, 1, 1, 1, 1, 1, 1, 1, 1, 1,\n",
       "       1, 1, 3, 1, 1, 1, 1, 1, 1, 1, 1, 4, 1, 1, 1, 1, 1, 1, 1, 1, 1, 1,\n",
       "       1, 1, 1, 1, 4, 1, 1, 3, 1, 1, 1, 1, 1, 1, 1, 1, 1, 1, 1, 1, 1, 1,\n",
       "       2, 1, 1, 1, 1, 1, 3, 1, 1, 1, 1, 1, 4, 1, 1, 1, 1, 1, 4, 1, 1, 1,\n",
       "       1, 1, 1, 1, 1, 1, 1, 1, 1, 1, 1, 1, 1, 1, 1, 1, 1], dtype=int64)"
      ]
     },
     "execution_count": 84,
     "metadata": {},
     "output_type": "execute_result"
    }
   ],
   "source": [
    "knn_predicted"
   ]
  },
  {
   "cell_type": "code",
   "execution_count": 85,
   "metadata": {},
   "outputs": [
    {
     "data": {
      "text/plain": [
       "0.23490737156613883"
      ]
     },
     "execution_count": 85,
     "metadata": {},
     "output_type": "execute_result"
    }
   ],
   "source": [
    "jaccard_score(Y_test,knn_predicted,average='weighted')"
   ]
  },
  {
   "cell_type": "markdown",
   "metadata": {},
   "source": [
    "#### The next cell can throw a warning, simply execute it again to remove the warning"
   ]
  },
  {
   "cell_type": "code",
   "execution_count": 86,
   "metadata": {},
   "outputs": [
    {
     "name": "stdout",
     "output_type": "stream",
     "text": [
      "              precision    recall  f1-score   support\n",
      "\n",
      "           1       0.45      0.94      0.61       102\n",
      "           2       0.00      0.00      0.00        21\n",
      "           3       0.40      0.11      0.17        38\n",
      "           4       0.62      0.11      0.18        76\n",
      "\n",
      "    accuracy                           0.46       237\n",
      "   macro avg       0.37      0.29      0.24       237\n",
      "weighted avg       0.46      0.46      0.35       237\n",
      "\n"
     ]
    }
   ],
   "source": [
    "print (classification_report(Y_test, knn_predicted))"
   ]
  },
  {
   "cell_type": "code",
   "execution_count": 87,
   "metadata": {},
   "outputs": [
    {
     "data": {
      "text/plain": [
       "array([[96,  0,  3,  3],\n",
       "       [20,  0,  1,  0],\n",
       "       [31,  1,  4,  2],\n",
       "       [66,  0,  2,  8]], dtype=int64)"
      ]
     },
     "execution_count": 87,
     "metadata": {},
     "output_type": "execute_result"
    }
   ],
   "source": [
    "knn_cm=confusion_matrix(Y_test,knn_predicted)\n",
    "knn_cm"
   ]
  },
  {
   "cell_type": "code",
   "execution_count": 88,
   "metadata": {},
   "outputs": [
    {
     "data": {
      "text/plain": [
       "0.45569620253164556"
      ]
     },
     "execution_count": 88,
     "metadata": {},
     "output_type": "execute_result"
    }
   ],
   "source": [
    "knn_accuracy=metrics.accuracy_score(Y_test,knn_predicted)\n",
    "knn_accuracy"
   ]
  },
  {
   "cell_type": "code",
   "execution_count": 89,
   "metadata": {},
   "outputs": [
    {
     "data": {
      "text/plain": [
       "0.346699085456019"
      ]
     },
     "execution_count": 89,
     "metadata": {},
     "output_type": "execute_result"
    }
   ],
   "source": [
    "metrics.f1_score(Y_test,knn_predicted,average='weighted')"
   ]
  },
  {
   "cell_type": "markdown",
   "metadata": {},
   "source": [
    "## Using Support Vector Machines"
   ]
  },
  {
   "cell_type": "code",
   "execution_count": 90,
   "metadata": {},
   "outputs": [],
   "source": [
    "from sklearn import svm"
   ]
  },
  {
   "cell_type": "code",
   "execution_count": 91,
   "metadata": {},
   "outputs": [],
   "source": [
    "svm_clf= svm.SVC(kernel='rbf',gamma='auto').fit(X_train_tfidf,Y_train)"
   ]
  },
  {
   "cell_type": "code",
   "execution_count": 92,
   "metadata": {},
   "outputs": [],
   "source": [
    "svm_predicted=svm_clf.predict(X_test_tfidf)"
   ]
  },
  {
   "cell_type": "code",
   "execution_count": 93,
   "metadata": {},
   "outputs": [
    {
     "data": {
      "text/plain": [
       "array([1, 1, 1, 1, 1, 1, 1, 1, 1, 1, 1, 1, 1, 1, 1, 1, 1, 1, 1, 1, 1, 1,\n",
       "       1, 1, 1, 1, 1, 1, 1, 1, 1, 1, 1, 1, 1, 1, 1, 1, 1, 1, 1, 1, 1, 1,\n",
       "       1, 1, 1, 1, 1, 1, 1, 1, 1, 1, 1, 1, 1, 1, 1, 1, 1, 1, 1, 1, 1, 1,\n",
       "       1, 1, 1, 1, 1, 1, 1, 1, 1, 1, 1, 1, 1, 1, 1, 1, 1, 1, 1, 1, 1, 1,\n",
       "       1, 1, 1, 1, 1, 1, 1, 1, 1, 1, 1, 1, 1, 1, 1, 1, 1, 1, 1, 1, 1, 1,\n",
       "       1, 1, 1, 1, 1, 1, 1, 1, 1, 1, 1, 1, 1, 1, 1, 1, 1, 1, 1, 1, 1, 1,\n",
       "       1, 1, 1, 1, 1, 1, 1, 1, 1, 1, 1, 1, 1, 1, 1, 1, 1, 1, 1, 1, 1, 1,\n",
       "       1, 1, 1, 1, 1, 1, 1, 1, 1, 1, 1, 1, 1, 1, 1, 1, 1, 1, 1, 1, 1, 1,\n",
       "       1, 1, 1, 1, 1, 1, 1, 1, 1, 1, 1, 1, 1, 1, 1, 1, 1, 1, 1, 1, 1, 1,\n",
       "       1, 1, 1, 1, 1, 1, 1, 1, 1, 1, 1, 1, 1, 1, 1, 1, 1, 1, 1, 1, 1, 1,\n",
       "       1, 1, 1, 1, 1, 1, 1, 1, 1, 1, 1, 1, 1, 1, 1, 1, 1], dtype=int64)"
      ]
     },
     "execution_count": 93,
     "metadata": {},
     "output_type": "execute_result"
    }
   ],
   "source": [
    "svm_predicted"
   ]
  },
  {
   "cell_type": "code",
   "execution_count": 94,
   "metadata": {},
   "outputs": [
    {
     "data": {
      "text/plain": [
       "0.18522672648614005"
      ]
     },
     "execution_count": 94,
     "metadata": {},
     "output_type": "execute_result"
    }
   ],
   "source": [
    "jaccard_score(Y_test,svm_predicted,average='weighted')"
   ]
  },
  {
   "cell_type": "markdown",
   "metadata": {},
   "source": [
    "#### The next cell can throw a warning, simply execute it again to remove the warning"
   ]
  },
  {
   "cell_type": "code",
   "execution_count": 130,
   "metadata": {},
   "outputs": [
    {
     "name": "stdout",
     "output_type": "stream",
     "text": [
      "              precision    recall  f1-score   support\n",
      "\n",
      "           1       0.43      1.00      0.60       102\n",
      "           2       0.00      0.00      0.00        21\n",
      "           3       0.00      0.00      0.00        38\n",
      "           4       0.00      0.00      0.00        76\n",
      "\n",
      "    accuracy                           0.43       237\n",
      "   macro avg       0.11      0.25      0.15       237\n",
      "weighted avg       0.19      0.43      0.26       237\n",
      "\n"
     ]
    }
   ],
   "source": [
    "print (classification_report(Y_test, svm_predicted))"
   ]
  },
  {
   "cell_type": "code",
   "execution_count": 96,
   "metadata": {},
   "outputs": [
    {
     "data": {
      "text/plain": [
       "array([[102,   0,   0,   0],\n",
       "       [ 21,   0,   0,   0],\n",
       "       [ 38,   0,   0,   0],\n",
       "       [ 76,   0,   0,   0]], dtype=int64)"
      ]
     },
     "execution_count": 96,
     "metadata": {},
     "output_type": "execute_result"
    }
   ],
   "source": [
    "svm_cm=confusion_matrix(Y_test,svm_predicted)\n",
    "svm_cm"
   ]
  },
  {
   "cell_type": "code",
   "execution_count": 97,
   "metadata": {},
   "outputs": [
    {
     "data": {
      "text/plain": [
       "0.43037974683544306"
      ]
     },
     "execution_count": 97,
     "metadata": {},
     "output_type": "execute_result"
    }
   ],
   "source": [
    "svm_accuracy=metrics.accuracy_score(Y_test,svm_predicted)\n",
    "svm_accuracy"
   ]
  },
  {
   "cell_type": "code",
   "execution_count": 129,
   "metadata": {},
   "outputs": [
    {
     "data": {
      "text/plain": [
       "0.2589895821664613"
      ]
     },
     "execution_count": 129,
     "metadata": {},
     "output_type": "execute_result"
    }
   ],
   "source": [
    "metrics.f1_score(Y_test,svm_predicted,average='weighted')"
   ]
  },
  {
   "cell_type": "markdown",
   "metadata": {},
   "source": [
    "## Decision Trees"
   ]
  },
  {
   "cell_type": "code",
   "execution_count": 99,
   "metadata": {},
   "outputs": [],
   "source": [
    "from sklearn.tree import DecisionTreeClassifier"
   ]
  },
  {
   "cell_type": "code",
   "execution_count": 100,
   "metadata": {},
   "outputs": [],
   "source": [
    "decision_tree_clf=DecisionTreeClassifier(criterion='entropy',max_depth=4).fit(X_train_tfidf,Y_train)"
   ]
  },
  {
   "cell_type": "code",
   "execution_count": 101,
   "metadata": {},
   "outputs": [],
   "source": [
    "decision_tree_predicted=decision_tree_clf.predict(X_test_tfidf)"
   ]
  },
  {
   "cell_type": "code",
   "execution_count": 102,
   "metadata": {},
   "outputs": [
    {
     "data": {
      "text/plain": [
       "array([4, 1, 1, 1, 1, 1, 1, 1, 1, 1, 1, 1, 1, 1, 1, 1, 1, 1, 4, 1, 1, 1,\n",
       "       3, 1, 4, 1, 1, 1, 4, 1, 1, 1, 1, 4, 1, 4, 1, 1, 1, 1, 1, 4, 1, 1,\n",
       "       1, 4, 1, 1, 1, 3, 1, 4, 1, 1, 1, 1, 1, 1, 1, 4, 1, 1, 1, 4, 1, 1,\n",
       "       1, 1, 1, 1, 1, 1, 1, 4, 1, 1, 1, 1, 1, 1, 1, 1, 1, 4, 4, 1, 1, 3,\n",
       "       1, 1, 1, 1, 1, 1, 1, 4, 1, 1, 1, 1, 1, 1, 1, 4, 1, 1, 1, 4, 4, 1,\n",
       "       1, 4, 1, 1, 4, 1, 1, 1, 4, 1, 4, 1, 1, 4, 4, 1, 1, 1, 1, 1, 1, 1,\n",
       "       1, 1, 3, 1, 1, 1, 4, 4, 1, 4, 1, 4, 1, 1, 4, 1, 1, 1, 1, 1, 4, 1,\n",
       "       1, 1, 4, 1, 1, 1, 1, 1, 1, 4, 1, 1, 4, 1, 1, 1, 1, 1, 1, 1, 1, 1,\n",
       "       1, 4, 1, 1, 1, 1, 4, 1, 4, 1, 4, 1, 1, 1, 1, 4, 1, 1, 1, 1, 1, 1,\n",
       "       4, 1, 4, 1, 1, 1, 1, 1, 1, 1, 1, 1, 1, 4, 1, 1, 1, 3, 1, 1, 1, 1,\n",
       "       1, 4, 4, 1, 1, 1, 1, 1, 1, 1, 1, 1, 1, 3, 1, 1, 1], dtype=int64)"
      ]
     },
     "execution_count": 102,
     "metadata": {},
     "output_type": "execute_result"
    }
   ],
   "source": [
    "decision_tree_predicted"
   ]
  },
  {
   "cell_type": "code",
   "execution_count": 103,
   "metadata": {},
   "outputs": [
    {
     "data": {
      "text/plain": [
       "0.26223427767731566"
      ]
     },
     "execution_count": 103,
     "metadata": {},
     "output_type": "execute_result"
    }
   ],
   "source": [
    "jaccard_score(Y_test,decision_tree_predicted,average='weighted')"
   ]
  },
  {
   "cell_type": "markdown",
   "metadata": {},
   "source": [
    "#### The next cell can throw a warning, simply execute it again to remove the warning"
   ]
  },
  {
   "cell_type": "code",
   "execution_count": 128,
   "metadata": {},
   "outputs": [
    {
     "name": "stdout",
     "output_type": "stream",
     "text": [
      "              precision    recall  f1-score   support\n",
      "\n",
      "           1       0.48      0.88      0.62       102\n",
      "           2       0.00      0.00      0.00        21\n",
      "           3       0.33      0.05      0.09        38\n",
      "           4       0.44      0.25      0.32        76\n",
      "\n",
      "    accuracy                           0.47       237\n",
      "   macro avg       0.31      0.30      0.26       237\n",
      "weighted avg       0.40      0.47      0.38       237\n",
      "\n"
     ]
    }
   ],
   "source": [
    "print (classification_report(Y_test, decision_tree_predicted))"
   ]
  },
  {
   "cell_type": "code",
   "execution_count": 105,
   "metadata": {},
   "outputs": [
    {
     "data": {
      "text/plain": [
       "array([[90,  0,  1, 11],\n",
       "       [18,  0,  0,  3],\n",
       "       [26,  0,  2, 10],\n",
       "       [54,  0,  3, 19]], dtype=int64)"
      ]
     },
     "execution_count": 105,
     "metadata": {},
     "output_type": "execute_result"
    }
   ],
   "source": [
    "decision_tree_cm=confusion_matrix(Y_test,decision_tree_predicted)\n",
    "decision_tree_cm"
   ]
  },
  {
   "cell_type": "code",
   "execution_count": 106,
   "metadata": {},
   "outputs": [
    {
     "data": {
      "text/plain": [
       "0.46835443037974683"
      ]
     },
     "execution_count": 106,
     "metadata": {},
     "output_type": "execute_result"
    }
   ],
   "source": [
    "decision_tree_accuracy=metrics.accuracy_score(Y_test,decision_tree_predicted)\n",
    "decision_tree_accuracy"
   ]
  },
  {
   "cell_type": "code",
   "execution_count": 126,
   "metadata": {},
   "outputs": [
    {
     "data": {
      "text/plain": [
       "0.38410885166732855"
      ]
     },
     "execution_count": 126,
     "metadata": {},
     "output_type": "execute_result"
    }
   ],
   "source": [
    "metrics.f1_score(Y_test,decision_tree_predicted,average='weighted')"
   ]
  },
  {
   "cell_type": "markdown",
   "metadata": {},
   "source": [
    "## Random Forest Classification"
   ]
  },
  {
   "cell_type": "code",
   "execution_count": 108,
   "metadata": {},
   "outputs": [],
   "source": [
    "from sklearn.ensemble import RandomForestClassifier"
   ]
  },
  {
   "cell_type": "code",
   "execution_count": 109,
   "metadata": {},
   "outputs": [],
   "source": [
    "random_forest_clf = RandomForestClassifier(n_estimators=100, \n",
    "                               bootstrap = True,\n",
    "                               max_features = 'sqrt').fit(X_train_tfidf,Y_train)"
   ]
  },
  {
   "cell_type": "code",
   "execution_count": 110,
   "metadata": {},
   "outputs": [],
   "source": [
    "random_forest_predicted=random_forest_clf.predict(X_test_tfidf)"
   ]
  },
  {
   "cell_type": "code",
   "execution_count": 111,
   "metadata": {},
   "outputs": [
    {
     "data": {
      "text/plain": [
       "array([4, 1, 4, 1, 4, 1, 1, 4, 1, 4, 1, 1, 4, 1, 1, 4, 1, 1, 4, 1, 1, 1,\n",
       "       4, 1, 4, 4, 1, 1, 1, 1, 4, 1, 4, 4, 1, 4, 1, 1, 1, 1, 1, 4, 1, 4,\n",
       "       1, 4, 4, 1, 4, 4, 4, 1, 1, 1, 1, 1, 1, 4, 1, 4, 1, 1, 1, 4, 1, 1,\n",
       "       1, 4, 1, 1, 4, 1, 4, 4, 1, 1, 1, 1, 1, 4, 1, 1, 1, 4, 4, 4, 1, 1,\n",
       "       1, 4, 1, 2, 1, 1, 1, 1, 1, 4, 1, 1, 1, 1, 1, 4, 1, 1, 4, 4, 4, 1,\n",
       "       1, 3, 1, 1, 1, 1, 1, 1, 4, 4, 4, 4, 1, 1, 4, 1, 4, 4, 4, 1, 4, 1,\n",
       "       1, 1, 1, 1, 1, 4, 4, 1, 4, 4, 1, 4, 1, 1, 1, 4, 4, 1, 4, 1, 4, 4,\n",
       "       1, 1, 4, 1, 4, 1, 4, 3, 1, 4, 1, 4, 4, 1, 1, 4, 1, 1, 4, 4, 1, 1,\n",
       "       1, 4, 1, 1, 1, 4, 1, 4, 1, 1, 4, 1, 4, 4, 1, 4, 4, 1, 1, 1, 1, 1,\n",
       "       3, 1, 4, 4, 1, 1, 4, 1, 4, 1, 1, 1, 4, 4, 1, 3, 1, 1, 4, 1, 1, 3,\n",
       "       1, 4, 4, 1, 1, 1, 1, 1, 1, 1, 4, 4, 4, 1, 4, 1, 1], dtype=int64)"
      ]
     },
     "execution_count": 111,
     "metadata": {},
     "output_type": "execute_result"
    }
   ],
   "source": [
    "random_forest_predicted"
   ]
  },
  {
   "cell_type": "code",
   "execution_count": 112,
   "metadata": {},
   "outputs": [
    {
     "data": {
      "text/plain": [
       "0.33225391482171257"
      ]
     },
     "execution_count": 112,
     "metadata": {},
     "output_type": "execute_result"
    }
   ],
   "source": [
    "jaccard_score(Y_test,random_forest_predicted,average='weighted')"
   ]
  },
  {
   "cell_type": "markdown",
   "metadata": {},
   "source": [
    "#### The next cell can throw a warning, simply execute it again to remove the warning"
   ]
  },
  {
   "cell_type": "code",
   "execution_count": 113,
   "metadata": {},
   "outputs": [
    {
     "name": "stdout",
     "output_type": "stream",
     "text": [
      "              precision    recall  f1-score   support\n",
      "\n",
      "           1       0.57      0.79      0.66       102\n",
      "           2       1.00      0.05      0.09        21\n",
      "           3       0.60      0.08      0.14        38\n",
      "           4       0.45      0.53      0.49        76\n",
      "\n",
      "    accuracy                           0.53       237\n",
      "   macro avg       0.66      0.36      0.34       237\n",
      "weighted avg       0.57      0.53      0.47       237\n",
      "\n"
     ]
    }
   ],
   "source": [
    "print (classification_report(Y_test,random_forest_predicted ))"
   ]
  },
  {
   "cell_type": "code",
   "execution_count": 114,
   "metadata": {},
   "outputs": [
    {
     "data": {
      "text/plain": [
       "array([[81,  0,  1, 20],\n",
       "       [11,  1,  1,  8],\n",
       "       [15,  0,  3, 20],\n",
       "       [36,  0,  0, 40]], dtype=int64)"
      ]
     },
     "execution_count": 114,
     "metadata": {},
     "output_type": "execute_result"
    }
   ],
   "source": [
    "random_forest_cm=confusion_matrix(Y_test,random_forest_predicted)\n",
    "random_forest_cm"
   ]
  },
  {
   "cell_type": "code",
   "execution_count": 115,
   "metadata": {},
   "outputs": [
    {
     "data": {
      "text/plain": [
       "0.5274261603375527"
      ]
     },
     "execution_count": 115,
     "metadata": {},
     "output_type": "execute_result"
    }
   ],
   "source": [
    "random_forest_accuracy=metrics.accuracy_score(Y_test,random_forest_predicted)\n",
    "random_forest_accuracy"
   ]
  },
  {
   "cell_type": "code",
   "execution_count": 116,
   "metadata": {},
   "outputs": [
    {
     "data": {
      "text/plain": [
       "0.47143242692564236"
      ]
     },
     "execution_count": 116,
     "metadata": {},
     "output_type": "execute_result"
    }
   ],
   "source": [
    "metrics.f1_score(Y_test,random_forest_predicted,average='weighted')"
   ]
  },
  {
   "cell_type": "markdown",
   "metadata": {},
   "source": [
    "### Some data visualization"
   ]
  },
  {
   "cell_type": "markdown",
   "metadata": {},
   "source": [
    "### Accuracy Graph"
   ]
  },
  {
   "cell_type": "code",
   "execution_count": 117,
   "metadata": {},
   "outputs": [],
   "source": [
    "accuracy_list=[logistic_accuracy,naive_bayes_accuracy,knn_accuracy,svm_accuracy,decision_tree_accuracy,random_forest_accuracy]"
   ]
  },
  {
   "cell_type": "code",
   "execution_count": 118,
   "metadata": {},
   "outputs": [],
   "source": [
    "%matplotlib notebook"
   ]
  },
  {
   "cell_type": "code",
   "execution_count": 119,
   "metadata": {},
   "outputs": [],
   "source": [
    "accuracy_x_labels=['logistic','naive_bayes','knn','svm','decision_tree','random_forest']"
   ]
  },
  {
   "cell_type": "code",
   "execution_count": 120,
   "metadata": {},
   "outputs": [
    {
     "data": {
      "application/javascript": [
       "/* Put everything inside the global mpl namespace */\n",
       "window.mpl = {};\n",
       "\n",
       "\n",
       "mpl.get_websocket_type = function() {\n",
       "    if (typeof(WebSocket) !== 'undefined') {\n",
       "        return WebSocket;\n",
       "    } else if (typeof(MozWebSocket) !== 'undefined') {\n",
       "        return MozWebSocket;\n",
       "    } else {\n",
       "        alert('Your browser does not have WebSocket support. ' +\n",
       "              'Please try Chrome, Safari or Firefox ≥ 6. ' +\n",
       "              'Firefox 4 and 5 are also supported but you ' +\n",
       "              'have to enable WebSockets in about:config.');\n",
       "    };\n",
       "}\n",
       "\n",
       "mpl.figure = function(figure_id, websocket, ondownload, parent_element) {\n",
       "    this.id = figure_id;\n",
       "\n",
       "    this.ws = websocket;\n",
       "\n",
       "    this.supports_binary = (this.ws.binaryType != undefined);\n",
       "\n",
       "    if (!this.supports_binary) {\n",
       "        var warnings = document.getElementById(\"mpl-warnings\");\n",
       "        if (warnings) {\n",
       "            warnings.style.display = 'block';\n",
       "            warnings.textContent = (\n",
       "                \"This browser does not support binary websocket messages. \" +\n",
       "                    \"Performance may be slow.\");\n",
       "        }\n",
       "    }\n",
       "\n",
       "    this.imageObj = new Image();\n",
       "\n",
       "    this.context = undefined;\n",
       "    this.message = undefined;\n",
       "    this.canvas = undefined;\n",
       "    this.rubberband_canvas = undefined;\n",
       "    this.rubberband_context = undefined;\n",
       "    this.format_dropdown = undefined;\n",
       "\n",
       "    this.image_mode = 'full';\n",
       "\n",
       "    this.root = $('<div/>');\n",
       "    this._root_extra_style(this.root)\n",
       "    this.root.attr('style', 'display: inline-block');\n",
       "\n",
       "    $(parent_element).append(this.root);\n",
       "\n",
       "    this._init_header(this);\n",
       "    this._init_canvas(this);\n",
       "    this._init_toolbar(this);\n",
       "\n",
       "    var fig = this;\n",
       "\n",
       "    this.waiting = false;\n",
       "\n",
       "    this.ws.onopen =  function () {\n",
       "            fig.send_message(\"supports_binary\", {value: fig.supports_binary});\n",
       "            fig.send_message(\"send_image_mode\", {});\n",
       "            if (mpl.ratio != 1) {\n",
       "                fig.send_message(\"set_dpi_ratio\", {'dpi_ratio': mpl.ratio});\n",
       "            }\n",
       "            fig.send_message(\"refresh\", {});\n",
       "        }\n",
       "\n",
       "    this.imageObj.onload = function() {\n",
       "            if (fig.image_mode == 'full') {\n",
       "                // Full images could contain transparency (where diff images\n",
       "                // almost always do), so we need to clear the canvas so that\n",
       "                // there is no ghosting.\n",
       "                fig.context.clearRect(0, 0, fig.canvas.width, fig.canvas.height);\n",
       "            }\n",
       "            fig.context.drawImage(fig.imageObj, 0, 0);\n",
       "        };\n",
       "\n",
       "    this.imageObj.onunload = function() {\n",
       "        fig.ws.close();\n",
       "    }\n",
       "\n",
       "    this.ws.onmessage = this._make_on_message_function(this);\n",
       "\n",
       "    this.ondownload = ondownload;\n",
       "}\n",
       "\n",
       "mpl.figure.prototype._init_header = function() {\n",
       "    var titlebar = $(\n",
       "        '<div class=\"ui-dialog-titlebar ui-widget-header ui-corner-all ' +\n",
       "        'ui-helper-clearfix\"/>');\n",
       "    var titletext = $(\n",
       "        '<div class=\"ui-dialog-title\" style=\"width: 100%; ' +\n",
       "        'text-align: center; padding: 3px;\"/>');\n",
       "    titlebar.append(titletext)\n",
       "    this.root.append(titlebar);\n",
       "    this.header = titletext[0];\n",
       "}\n",
       "\n",
       "\n",
       "\n",
       "mpl.figure.prototype._canvas_extra_style = function(canvas_div) {\n",
       "\n",
       "}\n",
       "\n",
       "\n",
       "mpl.figure.prototype._root_extra_style = function(canvas_div) {\n",
       "\n",
       "}\n",
       "\n",
       "mpl.figure.prototype._init_canvas = function() {\n",
       "    var fig = this;\n",
       "\n",
       "    var canvas_div = $('<div/>');\n",
       "\n",
       "    canvas_div.attr('style', 'position: relative; clear: both; outline: 0');\n",
       "\n",
       "    function canvas_keyboard_event(event) {\n",
       "        return fig.key_event(event, event['data']);\n",
       "    }\n",
       "\n",
       "    canvas_div.keydown('key_press', canvas_keyboard_event);\n",
       "    canvas_div.keyup('key_release', canvas_keyboard_event);\n",
       "    this.canvas_div = canvas_div\n",
       "    this._canvas_extra_style(canvas_div)\n",
       "    this.root.append(canvas_div);\n",
       "\n",
       "    var canvas = $('<canvas/>');\n",
       "    canvas.addClass('mpl-canvas');\n",
       "    canvas.attr('style', \"left: 0; top: 0; z-index: 0; outline: 0\")\n",
       "\n",
       "    this.canvas = canvas[0];\n",
       "    this.context = canvas[0].getContext(\"2d\");\n",
       "\n",
       "    var backingStore = this.context.backingStorePixelRatio ||\n",
       "\tthis.context.webkitBackingStorePixelRatio ||\n",
       "\tthis.context.mozBackingStorePixelRatio ||\n",
       "\tthis.context.msBackingStorePixelRatio ||\n",
       "\tthis.context.oBackingStorePixelRatio ||\n",
       "\tthis.context.backingStorePixelRatio || 1;\n",
       "\n",
       "    mpl.ratio = (window.devicePixelRatio || 1) / backingStore;\n",
       "\n",
       "    var rubberband = $('<canvas/>');\n",
       "    rubberband.attr('style', \"position: absolute; left: 0; top: 0; z-index: 1;\")\n",
       "\n",
       "    var pass_mouse_events = true;\n",
       "\n",
       "    canvas_div.resizable({\n",
       "        start: function(event, ui) {\n",
       "            pass_mouse_events = false;\n",
       "        },\n",
       "        resize: function(event, ui) {\n",
       "            fig.request_resize(ui.size.width, ui.size.height);\n",
       "        },\n",
       "        stop: function(event, ui) {\n",
       "            pass_mouse_events = true;\n",
       "            fig.request_resize(ui.size.width, ui.size.height);\n",
       "        },\n",
       "    });\n",
       "\n",
       "    function mouse_event_fn(event) {\n",
       "        if (pass_mouse_events)\n",
       "            return fig.mouse_event(event, event['data']);\n",
       "    }\n",
       "\n",
       "    rubberband.mousedown('button_press', mouse_event_fn);\n",
       "    rubberband.mouseup('button_release', mouse_event_fn);\n",
       "    // Throttle sequential mouse events to 1 every 20ms.\n",
       "    rubberband.mousemove('motion_notify', mouse_event_fn);\n",
       "\n",
       "    rubberband.mouseenter('figure_enter', mouse_event_fn);\n",
       "    rubberband.mouseleave('figure_leave', mouse_event_fn);\n",
       "\n",
       "    canvas_div.on(\"wheel\", function (event) {\n",
       "        event = event.originalEvent;\n",
       "        event['data'] = 'scroll'\n",
       "        if (event.deltaY < 0) {\n",
       "            event.step = 1;\n",
       "        } else {\n",
       "            event.step = -1;\n",
       "        }\n",
       "        mouse_event_fn(event);\n",
       "    });\n",
       "\n",
       "    canvas_div.append(canvas);\n",
       "    canvas_div.append(rubberband);\n",
       "\n",
       "    this.rubberband = rubberband;\n",
       "    this.rubberband_canvas = rubberband[0];\n",
       "    this.rubberband_context = rubberband[0].getContext(\"2d\");\n",
       "    this.rubberband_context.strokeStyle = \"#000000\";\n",
       "\n",
       "    this._resize_canvas = function(width, height) {\n",
       "        // Keep the size of the canvas, canvas container, and rubber band\n",
       "        // canvas in synch.\n",
       "        canvas_div.css('width', width)\n",
       "        canvas_div.css('height', height)\n",
       "\n",
       "        canvas.attr('width', width * mpl.ratio);\n",
       "        canvas.attr('height', height * mpl.ratio);\n",
       "        canvas.attr('style', 'width: ' + width + 'px; height: ' + height + 'px;');\n",
       "\n",
       "        rubberband.attr('width', width);\n",
       "        rubberband.attr('height', height);\n",
       "    }\n",
       "\n",
       "    // Set the figure to an initial 600x600px, this will subsequently be updated\n",
       "    // upon first draw.\n",
       "    this._resize_canvas(600, 600);\n",
       "\n",
       "    // Disable right mouse context menu.\n",
       "    $(this.rubberband_canvas).bind(\"contextmenu\",function(e){\n",
       "        return false;\n",
       "    });\n",
       "\n",
       "    function set_focus () {\n",
       "        canvas.focus();\n",
       "        canvas_div.focus();\n",
       "    }\n",
       "\n",
       "    window.setTimeout(set_focus, 100);\n",
       "}\n",
       "\n",
       "mpl.figure.prototype._init_toolbar = function() {\n",
       "    var fig = this;\n",
       "\n",
       "    var nav_element = $('<div/>');\n",
       "    nav_element.attr('style', 'width: 100%');\n",
       "    this.root.append(nav_element);\n",
       "\n",
       "    // Define a callback function for later on.\n",
       "    function toolbar_event(event) {\n",
       "        return fig.toolbar_button_onclick(event['data']);\n",
       "    }\n",
       "    function toolbar_mouse_event(event) {\n",
       "        return fig.toolbar_button_onmouseover(event['data']);\n",
       "    }\n",
       "\n",
       "    for(var toolbar_ind in mpl.toolbar_items) {\n",
       "        var name = mpl.toolbar_items[toolbar_ind][0];\n",
       "        var tooltip = mpl.toolbar_items[toolbar_ind][1];\n",
       "        var image = mpl.toolbar_items[toolbar_ind][2];\n",
       "        var method_name = mpl.toolbar_items[toolbar_ind][3];\n",
       "\n",
       "        if (!name) {\n",
       "            // put a spacer in here.\n",
       "            continue;\n",
       "        }\n",
       "        var button = $('<button/>');\n",
       "        button.addClass('ui-button ui-widget ui-state-default ui-corner-all ' +\n",
       "                        'ui-button-icon-only');\n",
       "        button.attr('role', 'button');\n",
       "        button.attr('aria-disabled', 'false');\n",
       "        button.click(method_name, toolbar_event);\n",
       "        button.mouseover(tooltip, toolbar_mouse_event);\n",
       "\n",
       "        var icon_img = $('<span/>');\n",
       "        icon_img.addClass('ui-button-icon-primary ui-icon');\n",
       "        icon_img.addClass(image);\n",
       "        icon_img.addClass('ui-corner-all');\n",
       "\n",
       "        var tooltip_span = $('<span/>');\n",
       "        tooltip_span.addClass('ui-button-text');\n",
       "        tooltip_span.html(tooltip);\n",
       "\n",
       "        button.append(icon_img);\n",
       "        button.append(tooltip_span);\n",
       "\n",
       "        nav_element.append(button);\n",
       "    }\n",
       "\n",
       "    var fmt_picker_span = $('<span/>');\n",
       "\n",
       "    var fmt_picker = $('<select/>');\n",
       "    fmt_picker.addClass('mpl-toolbar-option ui-widget ui-widget-content');\n",
       "    fmt_picker_span.append(fmt_picker);\n",
       "    nav_element.append(fmt_picker_span);\n",
       "    this.format_dropdown = fmt_picker[0];\n",
       "\n",
       "    for (var ind in mpl.extensions) {\n",
       "        var fmt = mpl.extensions[ind];\n",
       "        var option = $(\n",
       "            '<option/>', {selected: fmt === mpl.default_extension}).html(fmt);\n",
       "        fmt_picker.append(option);\n",
       "    }\n",
       "\n",
       "    // Add hover states to the ui-buttons\n",
       "    $( \".ui-button\" ).hover(\n",
       "        function() { $(this).addClass(\"ui-state-hover\");},\n",
       "        function() { $(this).removeClass(\"ui-state-hover\");}\n",
       "    );\n",
       "\n",
       "    var status_bar = $('<span class=\"mpl-message\"/>');\n",
       "    nav_element.append(status_bar);\n",
       "    this.message = status_bar[0];\n",
       "}\n",
       "\n",
       "mpl.figure.prototype.request_resize = function(x_pixels, y_pixels) {\n",
       "    // Request matplotlib to resize the figure. Matplotlib will then trigger a resize in the client,\n",
       "    // which will in turn request a refresh of the image.\n",
       "    this.send_message('resize', {'width': x_pixels, 'height': y_pixels});\n",
       "}\n",
       "\n",
       "mpl.figure.prototype.send_message = function(type, properties) {\n",
       "    properties['type'] = type;\n",
       "    properties['figure_id'] = this.id;\n",
       "    this.ws.send(JSON.stringify(properties));\n",
       "}\n",
       "\n",
       "mpl.figure.prototype.send_draw_message = function() {\n",
       "    if (!this.waiting) {\n",
       "        this.waiting = true;\n",
       "        this.ws.send(JSON.stringify({type: \"draw\", figure_id: this.id}));\n",
       "    }\n",
       "}\n",
       "\n",
       "\n",
       "mpl.figure.prototype.handle_save = function(fig, msg) {\n",
       "    var format_dropdown = fig.format_dropdown;\n",
       "    var format = format_dropdown.options[format_dropdown.selectedIndex].value;\n",
       "    fig.ondownload(fig, format);\n",
       "}\n",
       "\n",
       "\n",
       "mpl.figure.prototype.handle_resize = function(fig, msg) {\n",
       "    var size = msg['size'];\n",
       "    if (size[0] != fig.canvas.width || size[1] != fig.canvas.height) {\n",
       "        fig._resize_canvas(size[0], size[1]);\n",
       "        fig.send_message(\"refresh\", {});\n",
       "    };\n",
       "}\n",
       "\n",
       "mpl.figure.prototype.handle_rubberband = function(fig, msg) {\n",
       "    var x0 = msg['x0'] / mpl.ratio;\n",
       "    var y0 = (fig.canvas.height - msg['y0']) / mpl.ratio;\n",
       "    var x1 = msg['x1'] / mpl.ratio;\n",
       "    var y1 = (fig.canvas.height - msg['y1']) / mpl.ratio;\n",
       "    x0 = Math.floor(x0) + 0.5;\n",
       "    y0 = Math.floor(y0) + 0.5;\n",
       "    x1 = Math.floor(x1) + 0.5;\n",
       "    y1 = Math.floor(y1) + 0.5;\n",
       "    var min_x = Math.min(x0, x1);\n",
       "    var min_y = Math.min(y0, y1);\n",
       "    var width = Math.abs(x1 - x0);\n",
       "    var height = Math.abs(y1 - y0);\n",
       "\n",
       "    fig.rubberband_context.clearRect(\n",
       "        0, 0, fig.canvas.width, fig.canvas.height);\n",
       "\n",
       "    fig.rubberband_context.strokeRect(min_x, min_y, width, height);\n",
       "}\n",
       "\n",
       "mpl.figure.prototype.handle_figure_label = function(fig, msg) {\n",
       "    // Updates the figure title.\n",
       "    fig.header.textContent = msg['label'];\n",
       "}\n",
       "\n",
       "mpl.figure.prototype.handle_cursor = function(fig, msg) {\n",
       "    var cursor = msg['cursor'];\n",
       "    switch(cursor)\n",
       "    {\n",
       "    case 0:\n",
       "        cursor = 'pointer';\n",
       "        break;\n",
       "    case 1:\n",
       "        cursor = 'default';\n",
       "        break;\n",
       "    case 2:\n",
       "        cursor = 'crosshair';\n",
       "        break;\n",
       "    case 3:\n",
       "        cursor = 'move';\n",
       "        break;\n",
       "    }\n",
       "    fig.rubberband_canvas.style.cursor = cursor;\n",
       "}\n",
       "\n",
       "mpl.figure.prototype.handle_message = function(fig, msg) {\n",
       "    fig.message.textContent = msg['message'];\n",
       "}\n",
       "\n",
       "mpl.figure.prototype.handle_draw = function(fig, msg) {\n",
       "    // Request the server to send over a new figure.\n",
       "    fig.send_draw_message();\n",
       "}\n",
       "\n",
       "mpl.figure.prototype.handle_image_mode = function(fig, msg) {\n",
       "    fig.image_mode = msg['mode'];\n",
       "}\n",
       "\n",
       "mpl.figure.prototype.updated_canvas_event = function() {\n",
       "    // Called whenever the canvas gets updated.\n",
       "    this.send_message(\"ack\", {});\n",
       "}\n",
       "\n",
       "// A function to construct a web socket function for onmessage handling.\n",
       "// Called in the figure constructor.\n",
       "mpl.figure.prototype._make_on_message_function = function(fig) {\n",
       "    return function socket_on_message(evt) {\n",
       "        if (evt.data instanceof Blob) {\n",
       "            /* FIXME: We get \"Resource interpreted as Image but\n",
       "             * transferred with MIME type text/plain:\" errors on\n",
       "             * Chrome.  But how to set the MIME type?  It doesn't seem\n",
       "             * to be part of the websocket stream */\n",
       "            evt.data.type = \"image/png\";\n",
       "\n",
       "            /* Free the memory for the previous frames */\n",
       "            if (fig.imageObj.src) {\n",
       "                (window.URL || window.webkitURL).revokeObjectURL(\n",
       "                    fig.imageObj.src);\n",
       "            }\n",
       "\n",
       "            fig.imageObj.src = (window.URL || window.webkitURL).createObjectURL(\n",
       "                evt.data);\n",
       "            fig.updated_canvas_event();\n",
       "            fig.waiting = false;\n",
       "            return;\n",
       "        }\n",
       "        else if (typeof evt.data === 'string' && evt.data.slice(0, 21) == \"data:image/png;base64\") {\n",
       "            fig.imageObj.src = evt.data;\n",
       "            fig.updated_canvas_event();\n",
       "            fig.waiting = false;\n",
       "            return;\n",
       "        }\n",
       "\n",
       "        var msg = JSON.parse(evt.data);\n",
       "        var msg_type = msg['type'];\n",
       "\n",
       "        // Call the  \"handle_{type}\" callback, which takes\n",
       "        // the figure and JSON message as its only arguments.\n",
       "        try {\n",
       "            var callback = fig[\"handle_\" + msg_type];\n",
       "        } catch (e) {\n",
       "            console.log(\"No handler for the '\" + msg_type + \"' message type: \", msg);\n",
       "            return;\n",
       "        }\n",
       "\n",
       "        if (callback) {\n",
       "            try {\n",
       "                // console.log(\"Handling '\" + msg_type + \"' message: \", msg);\n",
       "                callback(fig, msg);\n",
       "            } catch (e) {\n",
       "                console.log(\"Exception inside the 'handler_\" + msg_type + \"' callback:\", e, e.stack, msg);\n",
       "            }\n",
       "        }\n",
       "    };\n",
       "}\n",
       "\n",
       "// from http://stackoverflow.com/questions/1114465/getting-mouse-location-in-canvas\n",
       "mpl.findpos = function(e) {\n",
       "    //this section is from http://www.quirksmode.org/js/events_properties.html\n",
       "    var targ;\n",
       "    if (!e)\n",
       "        e = window.event;\n",
       "    if (e.target)\n",
       "        targ = e.target;\n",
       "    else if (e.srcElement)\n",
       "        targ = e.srcElement;\n",
       "    if (targ.nodeType == 3) // defeat Safari bug\n",
       "        targ = targ.parentNode;\n",
       "\n",
       "    // jQuery normalizes the pageX and pageY\n",
       "    // pageX,Y are the mouse positions relative to the document\n",
       "    // offset() returns the position of the element relative to the document\n",
       "    var x = e.pageX - $(targ).offset().left;\n",
       "    var y = e.pageY - $(targ).offset().top;\n",
       "\n",
       "    return {\"x\": x, \"y\": y};\n",
       "};\n",
       "\n",
       "/*\n",
       " * return a copy of an object with only non-object keys\n",
       " * we need this to avoid circular references\n",
       " * http://stackoverflow.com/a/24161582/3208463\n",
       " */\n",
       "function simpleKeys (original) {\n",
       "  return Object.keys(original).reduce(function (obj, key) {\n",
       "    if (typeof original[key] !== 'object')\n",
       "        obj[key] = original[key]\n",
       "    return obj;\n",
       "  }, {});\n",
       "}\n",
       "\n",
       "mpl.figure.prototype.mouse_event = function(event, name) {\n",
       "    var canvas_pos = mpl.findpos(event)\n",
       "\n",
       "    if (name === 'button_press')\n",
       "    {\n",
       "        this.canvas.focus();\n",
       "        this.canvas_div.focus();\n",
       "    }\n",
       "\n",
       "    var x = canvas_pos.x * mpl.ratio;\n",
       "    var y = canvas_pos.y * mpl.ratio;\n",
       "\n",
       "    this.send_message(name, {x: x, y: y, button: event.button,\n",
       "                             step: event.step,\n",
       "                             guiEvent: simpleKeys(event)});\n",
       "\n",
       "    /* This prevents the web browser from automatically changing to\n",
       "     * the text insertion cursor when the button is pressed.  We want\n",
       "     * to control all of the cursor setting manually through the\n",
       "     * 'cursor' event from matplotlib */\n",
       "    event.preventDefault();\n",
       "    return false;\n",
       "}\n",
       "\n",
       "mpl.figure.prototype._key_event_extra = function(event, name) {\n",
       "    // Handle any extra behaviour associated with a key event\n",
       "}\n",
       "\n",
       "mpl.figure.prototype.key_event = function(event, name) {\n",
       "\n",
       "    // Prevent repeat events\n",
       "    if (name == 'key_press')\n",
       "    {\n",
       "        if (event.which === this._key)\n",
       "            return;\n",
       "        else\n",
       "            this._key = event.which;\n",
       "    }\n",
       "    if (name == 'key_release')\n",
       "        this._key = null;\n",
       "\n",
       "    var value = '';\n",
       "    if (event.ctrlKey && event.which != 17)\n",
       "        value += \"ctrl+\";\n",
       "    if (event.altKey && event.which != 18)\n",
       "        value += \"alt+\";\n",
       "    if (event.shiftKey && event.which != 16)\n",
       "        value += \"shift+\";\n",
       "\n",
       "    value += 'k';\n",
       "    value += event.which.toString();\n",
       "\n",
       "    this._key_event_extra(event, name);\n",
       "\n",
       "    this.send_message(name, {key: value,\n",
       "                             guiEvent: simpleKeys(event)});\n",
       "    return false;\n",
       "}\n",
       "\n",
       "mpl.figure.prototype.toolbar_button_onclick = function(name) {\n",
       "    if (name == 'download') {\n",
       "        this.handle_save(this, null);\n",
       "    } else {\n",
       "        this.send_message(\"toolbar_button\", {name: name});\n",
       "    }\n",
       "};\n",
       "\n",
       "mpl.figure.prototype.toolbar_button_onmouseover = function(tooltip) {\n",
       "    this.message.textContent = tooltip;\n",
       "};\n",
       "mpl.toolbar_items = [[\"Home\", \"Reset original view\", \"fa fa-home icon-home\", \"home\"], [\"Back\", \"Back to previous view\", \"fa fa-arrow-left icon-arrow-left\", \"back\"], [\"Forward\", \"Forward to next view\", \"fa fa-arrow-right icon-arrow-right\", \"forward\"], [\"\", \"\", \"\", \"\"], [\"Pan\", \"Pan axes with left mouse, zoom with right\", \"fa fa-arrows icon-move\", \"pan\"], [\"Zoom\", \"Zoom to rectangle\", \"fa fa-square-o icon-check-empty\", \"zoom\"], [\"\", \"\", \"\", \"\"], [\"Download\", \"Download plot\", \"fa fa-floppy-o icon-save\", \"download\"]];\n",
       "\n",
       "mpl.extensions = [\"eps\", \"jpeg\", \"pdf\", \"png\", \"ps\", \"raw\", \"svg\", \"tif\"];\n",
       "\n",
       "mpl.default_extension = \"png\";var comm_websocket_adapter = function(comm) {\n",
       "    // Create a \"websocket\"-like object which calls the given IPython comm\n",
       "    // object with the appropriate methods. Currently this is a non binary\n",
       "    // socket, so there is still some room for performance tuning.\n",
       "    var ws = {};\n",
       "\n",
       "    ws.close = function() {\n",
       "        comm.close()\n",
       "    };\n",
       "    ws.send = function(m) {\n",
       "        //console.log('sending', m);\n",
       "        comm.send(m);\n",
       "    };\n",
       "    // Register the callback with on_msg.\n",
       "    comm.on_msg(function(msg) {\n",
       "        //console.log('receiving', msg['content']['data'], msg);\n",
       "        // Pass the mpl event to the overridden (by mpl) onmessage function.\n",
       "        ws.onmessage(msg['content']['data'])\n",
       "    });\n",
       "    return ws;\n",
       "}\n",
       "\n",
       "mpl.mpl_figure_comm = function(comm, msg) {\n",
       "    // This is the function which gets called when the mpl process\n",
       "    // starts-up an IPython Comm through the \"matplotlib\" channel.\n",
       "\n",
       "    var id = msg.content.data.id;\n",
       "    // Get hold of the div created by the display call when the Comm\n",
       "    // socket was opened in Python.\n",
       "    var element = $(\"#\" + id);\n",
       "    var ws_proxy = comm_websocket_adapter(comm)\n",
       "\n",
       "    function ondownload(figure, format) {\n",
       "        window.open(figure.imageObj.src);\n",
       "    }\n",
       "\n",
       "    var fig = new mpl.figure(id, ws_proxy,\n",
       "                           ondownload,\n",
       "                           element.get(0));\n",
       "\n",
       "    // Call onopen now - mpl needs it, as it is assuming we've passed it a real\n",
       "    // web socket which is closed, not our websocket->open comm proxy.\n",
       "    ws_proxy.onopen();\n",
       "\n",
       "    fig.parent_element = element.get(0);\n",
       "    fig.cell_info = mpl.find_output_cell(\"<div id='\" + id + \"'></div>\");\n",
       "    if (!fig.cell_info) {\n",
       "        console.error(\"Failed to find cell for figure\", id, fig);\n",
       "        return;\n",
       "    }\n",
       "\n",
       "    var output_index = fig.cell_info[2]\n",
       "    var cell = fig.cell_info[0];\n",
       "\n",
       "};\n",
       "\n",
       "mpl.figure.prototype.handle_close = function(fig, msg) {\n",
       "    var width = fig.canvas.width/mpl.ratio\n",
       "    fig.root.unbind('remove')\n",
       "\n",
       "    // Update the output cell to use the data from the current canvas.\n",
       "    fig.push_to_output();\n",
       "    var dataURL = fig.canvas.toDataURL();\n",
       "    // Re-enable the keyboard manager in IPython - without this line, in FF,\n",
       "    // the notebook keyboard shortcuts fail.\n",
       "    IPython.keyboard_manager.enable()\n",
       "    $(fig.parent_element).html('<img src=\"' + dataURL + '\" width=\"' + width + '\">');\n",
       "    fig.close_ws(fig, msg);\n",
       "}\n",
       "\n",
       "mpl.figure.prototype.close_ws = function(fig, msg){\n",
       "    fig.send_message('closing', msg);\n",
       "    // fig.ws.close()\n",
       "}\n",
       "\n",
       "mpl.figure.prototype.push_to_output = function(remove_interactive) {\n",
       "    // Turn the data on the canvas into data in the output cell.\n",
       "    var width = this.canvas.width/mpl.ratio\n",
       "    var dataURL = this.canvas.toDataURL();\n",
       "    this.cell_info[1]['text/html'] = '<img src=\"' + dataURL + '\" width=\"' + width + '\">';\n",
       "}\n",
       "\n",
       "mpl.figure.prototype.updated_canvas_event = function() {\n",
       "    // Tell IPython that the notebook contents must change.\n",
       "    IPython.notebook.set_dirty(true);\n",
       "    this.send_message(\"ack\", {});\n",
       "    var fig = this;\n",
       "    // Wait a second, then push the new image to the DOM so\n",
       "    // that it is saved nicely (might be nice to debounce this).\n",
       "    setTimeout(function () { fig.push_to_output() }, 1000);\n",
       "}\n",
       "\n",
       "mpl.figure.prototype._init_toolbar = function() {\n",
       "    var fig = this;\n",
       "\n",
       "    var nav_element = $('<div/>');\n",
       "    nav_element.attr('style', 'width: 100%');\n",
       "    this.root.append(nav_element);\n",
       "\n",
       "    // Define a callback function for later on.\n",
       "    function toolbar_event(event) {\n",
       "        return fig.toolbar_button_onclick(event['data']);\n",
       "    }\n",
       "    function toolbar_mouse_event(event) {\n",
       "        return fig.toolbar_button_onmouseover(event['data']);\n",
       "    }\n",
       "\n",
       "    for(var toolbar_ind in mpl.toolbar_items){\n",
       "        var name = mpl.toolbar_items[toolbar_ind][0];\n",
       "        var tooltip = mpl.toolbar_items[toolbar_ind][1];\n",
       "        var image = mpl.toolbar_items[toolbar_ind][2];\n",
       "        var method_name = mpl.toolbar_items[toolbar_ind][3];\n",
       "\n",
       "        if (!name) { continue; };\n",
       "\n",
       "        var button = $('<button class=\"btn btn-default\" href=\"#\" title=\"' + name + '\"><i class=\"fa ' + image + ' fa-lg\"></i></button>');\n",
       "        button.click(method_name, toolbar_event);\n",
       "        button.mouseover(tooltip, toolbar_mouse_event);\n",
       "        nav_element.append(button);\n",
       "    }\n",
       "\n",
       "    // Add the status bar.\n",
       "    var status_bar = $('<span class=\"mpl-message\" style=\"text-align:right; float: right;\"/>');\n",
       "    nav_element.append(status_bar);\n",
       "    this.message = status_bar[0];\n",
       "\n",
       "    // Add the close button to the window.\n",
       "    var buttongrp = $('<div class=\"btn-group inline pull-right\"></div>');\n",
       "    var button = $('<button class=\"btn btn-mini btn-primary\" href=\"#\" title=\"Stop Interaction\"><i class=\"fa fa-power-off icon-remove icon-large\"></i></button>');\n",
       "    button.click(function (evt) { fig.handle_close(fig, {}); } );\n",
       "    button.mouseover('Stop Interaction', toolbar_mouse_event);\n",
       "    buttongrp.append(button);\n",
       "    var titlebar = this.root.find($('.ui-dialog-titlebar'));\n",
       "    titlebar.prepend(buttongrp);\n",
       "}\n",
       "\n",
       "mpl.figure.prototype._root_extra_style = function(el){\n",
       "    var fig = this\n",
       "    el.on(\"remove\", function(){\n",
       "\tfig.close_ws(fig, {});\n",
       "    });\n",
       "}\n",
       "\n",
       "mpl.figure.prototype._canvas_extra_style = function(el){\n",
       "    // this is important to make the div 'focusable\n",
       "    el.attr('tabindex', 0)\n",
       "    // reach out to IPython and tell the keyboard manager to turn it's self\n",
       "    // off when our div gets focus\n",
       "\n",
       "    // location in version 3\n",
       "    if (IPython.notebook.keyboard_manager) {\n",
       "        IPython.notebook.keyboard_manager.register_events(el);\n",
       "    }\n",
       "    else {\n",
       "        // location in version 2\n",
       "        IPython.keyboard_manager.register_events(el);\n",
       "    }\n",
       "\n",
       "}\n",
       "\n",
       "mpl.figure.prototype._key_event_extra = function(event, name) {\n",
       "    var manager = IPython.notebook.keyboard_manager;\n",
       "    if (!manager)\n",
       "        manager = IPython.keyboard_manager;\n",
       "\n",
       "    // Check for shift+enter\n",
       "    if (event.shiftKey && event.which == 13) {\n",
       "        this.canvas_div.blur();\n",
       "        event.shiftKey = false;\n",
       "        // Send a \"J\" for go to next cell\n",
       "        event.which = 74;\n",
       "        event.keyCode = 74;\n",
       "        manager.command_mode();\n",
       "        manager.handle_keydown(event);\n",
       "    }\n",
       "}\n",
       "\n",
       "mpl.figure.prototype.handle_save = function(fig, msg) {\n",
       "    fig.ondownload(fig, null);\n",
       "}\n",
       "\n",
       "\n",
       "mpl.find_output_cell = function(html_output) {\n",
       "    // Return the cell and output element which can be found *uniquely* in the notebook.\n",
       "    // Note - this is a bit hacky, but it is done because the \"notebook_saving.Notebook\"\n",
       "    // IPython event is triggered only after the cells have been serialised, which for\n",
       "    // our purposes (turning an active figure into a static one), is too late.\n",
       "    var cells = IPython.notebook.get_cells();\n",
       "    var ncells = cells.length;\n",
       "    for (var i=0; i<ncells; i++) {\n",
       "        var cell = cells[i];\n",
       "        if (cell.cell_type === 'code'){\n",
       "            for (var j=0; j<cell.output_area.outputs.length; j++) {\n",
       "                var data = cell.output_area.outputs[j];\n",
       "                if (data.data) {\n",
       "                    // IPython >= 3 moved mimebundle to data attribute of output\n",
       "                    data = data.data;\n",
       "                }\n",
       "                if (data['text/html'] == html_output) {\n",
       "                    return [cell, data, j];\n",
       "                }\n",
       "            }\n",
       "        }\n",
       "    }\n",
       "}\n",
       "\n",
       "// Register the function which deals with the matplotlib target/channel.\n",
       "// The kernel may be null if the page has been refreshed.\n",
       "if (IPython.notebook.kernel != null) {\n",
       "    IPython.notebook.kernel.comm_manager.register_target('matplotlib', mpl.mpl_figure_comm);\n",
       "}\n"
      ],
      "text/plain": [
       "<IPython.core.display.Javascript object>"
      ]
     },
     "metadata": {},
     "output_type": "display_data"
    },
    {
     "data": {
      "text/html": [
       "<img src=\"data:image/png;base64,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\" width=\"640\">"
      ],
      "text/plain": [
       "<IPython.core.display.HTML object>"
      ]
     },
     "metadata": {},
     "output_type": "display_data"
    }
   ],
   "source": [
    "plt.figure()\n",
    "plt.plot(accuracy_x_labels,accuracy_list,'-r')\n",
    "plt.xlabel('Classification Models')\n",
    "plt.ylabel('Accuracy')\n",
    "plt.xticks(rotation='vertical')\n",
    "plt.tight_layout()\n",
    "plt.show()"
   ]
  },
  {
   "cell_type": "markdown",
   "metadata": {},
   "source": [
    "### F1 Score graph"
   ]
  },
  {
   "cell_type": "code",
   "execution_count": 125,
   "metadata": {},
   "outputs": [],
   "source": [
    "f1_random_forest=metrics.f1_score(Y_test,random_forest_predicted,average='weighted')\n",
    "f1_decision_tree=metrics.f1_score(Y_test,decision_tree_predicted,average='weighted')\n",
    "f1_svm=metrics.f1_score(Y_test,svm_predicted,average='weighted')\n",
    "f1_knn=metrics.f1_score(Y_test,knn_predicted,average='weighted')\n",
    "f1_naive_bayes=metrics.f1_score(Y_test,naive_bayes_predicted,average='weighted')\n",
    "f1_logistic=metrics.f1_score(Y_test,logistic_predicted,average='weighted')"
   ]
  },
  {
   "cell_type": "code",
   "execution_count": 122,
   "metadata": {},
   "outputs": [],
   "source": [
    "f1_score_list=[f1_logistic,f1_naive_bayes,f1_knn,f1_svm,f1_decision_tree,f1_random_forest]"
   ]
  },
  {
   "cell_type": "code",
   "execution_count": 123,
   "metadata": {},
   "outputs": [],
   "source": [
    "f1_score_x_labels=['logistic','naive_bayes','knn','svm','decision_tree','random_forest']"
   ]
  },
  {
   "cell_type": "code",
   "execution_count": 124,
   "metadata": {},
   "outputs": [
    {
     "data": {
      "application/javascript": [
       "/* Put everything inside the global mpl namespace */\n",
       "window.mpl = {};\n",
       "\n",
       "\n",
       "mpl.get_websocket_type = function() {\n",
       "    if (typeof(WebSocket) !== 'undefined') {\n",
       "        return WebSocket;\n",
       "    } else if (typeof(MozWebSocket) !== 'undefined') {\n",
       "        return MozWebSocket;\n",
       "    } else {\n",
       "        alert('Your browser does not have WebSocket support. ' +\n",
       "              'Please try Chrome, Safari or Firefox ≥ 6. ' +\n",
       "              'Firefox 4 and 5 are also supported but you ' +\n",
       "              'have to enable WebSockets in about:config.');\n",
       "    };\n",
       "}\n",
       "\n",
       "mpl.figure = function(figure_id, websocket, ondownload, parent_element) {\n",
       "    this.id = figure_id;\n",
       "\n",
       "    this.ws = websocket;\n",
       "\n",
       "    this.supports_binary = (this.ws.binaryType != undefined);\n",
       "\n",
       "    if (!this.supports_binary) {\n",
       "        var warnings = document.getElementById(\"mpl-warnings\");\n",
       "        if (warnings) {\n",
       "            warnings.style.display = 'block';\n",
       "            warnings.textContent = (\n",
       "                \"This browser does not support binary websocket messages. \" +\n",
       "                    \"Performance may be slow.\");\n",
       "        }\n",
       "    }\n",
       "\n",
       "    this.imageObj = new Image();\n",
       "\n",
       "    this.context = undefined;\n",
       "    this.message = undefined;\n",
       "    this.canvas = undefined;\n",
       "    this.rubberband_canvas = undefined;\n",
       "    this.rubberband_context = undefined;\n",
       "    this.format_dropdown = undefined;\n",
       "\n",
       "    this.image_mode = 'full';\n",
       "\n",
       "    this.root = $('<div/>');\n",
       "    this._root_extra_style(this.root)\n",
       "    this.root.attr('style', 'display: inline-block');\n",
       "\n",
       "    $(parent_element).append(this.root);\n",
       "\n",
       "    this._init_header(this);\n",
       "    this._init_canvas(this);\n",
       "    this._init_toolbar(this);\n",
       "\n",
       "    var fig = this;\n",
       "\n",
       "    this.waiting = false;\n",
       "\n",
       "    this.ws.onopen =  function () {\n",
       "            fig.send_message(\"supports_binary\", {value: fig.supports_binary});\n",
       "            fig.send_message(\"send_image_mode\", {});\n",
       "            if (mpl.ratio != 1) {\n",
       "                fig.send_message(\"set_dpi_ratio\", {'dpi_ratio': mpl.ratio});\n",
       "            }\n",
       "            fig.send_message(\"refresh\", {});\n",
       "        }\n",
       "\n",
       "    this.imageObj.onload = function() {\n",
       "            if (fig.image_mode == 'full') {\n",
       "                // Full images could contain transparency (where diff images\n",
       "                // almost always do), so we need to clear the canvas so that\n",
       "                // there is no ghosting.\n",
       "                fig.context.clearRect(0, 0, fig.canvas.width, fig.canvas.height);\n",
       "            }\n",
       "            fig.context.drawImage(fig.imageObj, 0, 0);\n",
       "        };\n",
       "\n",
       "    this.imageObj.onunload = function() {\n",
       "        fig.ws.close();\n",
       "    }\n",
       "\n",
       "    this.ws.onmessage = this._make_on_message_function(this);\n",
       "\n",
       "    this.ondownload = ondownload;\n",
       "}\n",
       "\n",
       "mpl.figure.prototype._init_header = function() {\n",
       "    var titlebar = $(\n",
       "        '<div class=\"ui-dialog-titlebar ui-widget-header ui-corner-all ' +\n",
       "        'ui-helper-clearfix\"/>');\n",
       "    var titletext = $(\n",
       "        '<div class=\"ui-dialog-title\" style=\"width: 100%; ' +\n",
       "        'text-align: center; padding: 3px;\"/>');\n",
       "    titlebar.append(titletext)\n",
       "    this.root.append(titlebar);\n",
       "    this.header = titletext[0];\n",
       "}\n",
       "\n",
       "\n",
       "\n",
       "mpl.figure.prototype._canvas_extra_style = function(canvas_div) {\n",
       "\n",
       "}\n",
       "\n",
       "\n",
       "mpl.figure.prototype._root_extra_style = function(canvas_div) {\n",
       "\n",
       "}\n",
       "\n",
       "mpl.figure.prototype._init_canvas = function() {\n",
       "    var fig = this;\n",
       "\n",
       "    var canvas_div = $('<div/>');\n",
       "\n",
       "    canvas_div.attr('style', 'position: relative; clear: both; outline: 0');\n",
       "\n",
       "    function canvas_keyboard_event(event) {\n",
       "        return fig.key_event(event, event['data']);\n",
       "    }\n",
       "\n",
       "    canvas_div.keydown('key_press', canvas_keyboard_event);\n",
       "    canvas_div.keyup('key_release', canvas_keyboard_event);\n",
       "    this.canvas_div = canvas_div\n",
       "    this._canvas_extra_style(canvas_div)\n",
       "    this.root.append(canvas_div);\n",
       "\n",
       "    var canvas = $('<canvas/>');\n",
       "    canvas.addClass('mpl-canvas');\n",
       "    canvas.attr('style', \"left: 0; top: 0; z-index: 0; outline: 0\")\n",
       "\n",
       "    this.canvas = canvas[0];\n",
       "    this.context = canvas[0].getContext(\"2d\");\n",
       "\n",
       "    var backingStore = this.context.backingStorePixelRatio ||\n",
       "\tthis.context.webkitBackingStorePixelRatio ||\n",
       "\tthis.context.mozBackingStorePixelRatio ||\n",
       "\tthis.context.msBackingStorePixelRatio ||\n",
       "\tthis.context.oBackingStorePixelRatio ||\n",
       "\tthis.context.backingStorePixelRatio || 1;\n",
       "\n",
       "    mpl.ratio = (window.devicePixelRatio || 1) / backingStore;\n",
       "\n",
       "    var rubberband = $('<canvas/>');\n",
       "    rubberband.attr('style', \"position: absolute; left: 0; top: 0; z-index: 1;\")\n",
       "\n",
       "    var pass_mouse_events = true;\n",
       "\n",
       "    canvas_div.resizable({\n",
       "        start: function(event, ui) {\n",
       "            pass_mouse_events = false;\n",
       "        },\n",
       "        resize: function(event, ui) {\n",
       "            fig.request_resize(ui.size.width, ui.size.height);\n",
       "        },\n",
       "        stop: function(event, ui) {\n",
       "            pass_mouse_events = true;\n",
       "            fig.request_resize(ui.size.width, ui.size.height);\n",
       "        },\n",
       "    });\n",
       "\n",
       "    function mouse_event_fn(event) {\n",
       "        if (pass_mouse_events)\n",
       "            return fig.mouse_event(event, event['data']);\n",
       "    }\n",
       "\n",
       "    rubberband.mousedown('button_press', mouse_event_fn);\n",
       "    rubberband.mouseup('button_release', mouse_event_fn);\n",
       "    // Throttle sequential mouse events to 1 every 20ms.\n",
       "    rubberband.mousemove('motion_notify', mouse_event_fn);\n",
       "\n",
       "    rubberband.mouseenter('figure_enter', mouse_event_fn);\n",
       "    rubberband.mouseleave('figure_leave', mouse_event_fn);\n",
       "\n",
       "    canvas_div.on(\"wheel\", function (event) {\n",
       "        event = event.originalEvent;\n",
       "        event['data'] = 'scroll'\n",
       "        if (event.deltaY < 0) {\n",
       "            event.step = 1;\n",
       "        } else {\n",
       "            event.step = -1;\n",
       "        }\n",
       "        mouse_event_fn(event);\n",
       "    });\n",
       "\n",
       "    canvas_div.append(canvas);\n",
       "    canvas_div.append(rubberband);\n",
       "\n",
       "    this.rubberband = rubberband;\n",
       "    this.rubberband_canvas = rubberband[0];\n",
       "    this.rubberband_context = rubberband[0].getContext(\"2d\");\n",
       "    this.rubberband_context.strokeStyle = \"#000000\";\n",
       "\n",
       "    this._resize_canvas = function(width, height) {\n",
       "        // Keep the size of the canvas, canvas container, and rubber band\n",
       "        // canvas in synch.\n",
       "        canvas_div.css('width', width)\n",
       "        canvas_div.css('height', height)\n",
       "\n",
       "        canvas.attr('width', width * mpl.ratio);\n",
       "        canvas.attr('height', height * mpl.ratio);\n",
       "        canvas.attr('style', 'width: ' + width + 'px; height: ' + height + 'px;');\n",
       "\n",
       "        rubberband.attr('width', width);\n",
       "        rubberband.attr('height', height);\n",
       "    }\n",
       "\n",
       "    // Set the figure to an initial 600x600px, this will subsequently be updated\n",
       "    // upon first draw.\n",
       "    this._resize_canvas(600, 600);\n",
       "\n",
       "    // Disable right mouse context menu.\n",
       "    $(this.rubberband_canvas).bind(\"contextmenu\",function(e){\n",
       "        return false;\n",
       "    });\n",
       "\n",
       "    function set_focus () {\n",
       "        canvas.focus();\n",
       "        canvas_div.focus();\n",
       "    }\n",
       "\n",
       "    window.setTimeout(set_focus, 100);\n",
       "}\n",
       "\n",
       "mpl.figure.prototype._init_toolbar = function() {\n",
       "    var fig = this;\n",
       "\n",
       "    var nav_element = $('<div/>');\n",
       "    nav_element.attr('style', 'width: 100%');\n",
       "    this.root.append(nav_element);\n",
       "\n",
       "    // Define a callback function for later on.\n",
       "    function toolbar_event(event) {\n",
       "        return fig.toolbar_button_onclick(event['data']);\n",
       "    }\n",
       "    function toolbar_mouse_event(event) {\n",
       "        return fig.toolbar_button_onmouseover(event['data']);\n",
       "    }\n",
       "\n",
       "    for(var toolbar_ind in mpl.toolbar_items) {\n",
       "        var name = mpl.toolbar_items[toolbar_ind][0];\n",
       "        var tooltip = mpl.toolbar_items[toolbar_ind][1];\n",
       "        var image = mpl.toolbar_items[toolbar_ind][2];\n",
       "        var method_name = mpl.toolbar_items[toolbar_ind][3];\n",
       "\n",
       "        if (!name) {\n",
       "            // put a spacer in here.\n",
       "            continue;\n",
       "        }\n",
       "        var button = $('<button/>');\n",
       "        button.addClass('ui-button ui-widget ui-state-default ui-corner-all ' +\n",
       "                        'ui-button-icon-only');\n",
       "        button.attr('role', 'button');\n",
       "        button.attr('aria-disabled', 'false');\n",
       "        button.click(method_name, toolbar_event);\n",
       "        button.mouseover(tooltip, toolbar_mouse_event);\n",
       "\n",
       "        var icon_img = $('<span/>');\n",
       "        icon_img.addClass('ui-button-icon-primary ui-icon');\n",
       "        icon_img.addClass(image);\n",
       "        icon_img.addClass('ui-corner-all');\n",
       "\n",
       "        var tooltip_span = $('<span/>');\n",
       "        tooltip_span.addClass('ui-button-text');\n",
       "        tooltip_span.html(tooltip);\n",
       "\n",
       "        button.append(icon_img);\n",
       "        button.append(tooltip_span);\n",
       "\n",
       "        nav_element.append(button);\n",
       "    }\n",
       "\n",
       "    var fmt_picker_span = $('<span/>');\n",
       "\n",
       "    var fmt_picker = $('<select/>');\n",
       "    fmt_picker.addClass('mpl-toolbar-option ui-widget ui-widget-content');\n",
       "    fmt_picker_span.append(fmt_picker);\n",
       "    nav_element.append(fmt_picker_span);\n",
       "    this.format_dropdown = fmt_picker[0];\n",
       "\n",
       "    for (var ind in mpl.extensions) {\n",
       "        var fmt = mpl.extensions[ind];\n",
       "        var option = $(\n",
       "            '<option/>', {selected: fmt === mpl.default_extension}).html(fmt);\n",
       "        fmt_picker.append(option);\n",
       "    }\n",
       "\n",
       "    // Add hover states to the ui-buttons\n",
       "    $( \".ui-button\" ).hover(\n",
       "        function() { $(this).addClass(\"ui-state-hover\");},\n",
       "        function() { $(this).removeClass(\"ui-state-hover\");}\n",
       "    );\n",
       "\n",
       "    var status_bar = $('<span class=\"mpl-message\"/>');\n",
       "    nav_element.append(status_bar);\n",
       "    this.message = status_bar[0];\n",
       "}\n",
       "\n",
       "mpl.figure.prototype.request_resize = function(x_pixels, y_pixels) {\n",
       "    // Request matplotlib to resize the figure. Matplotlib will then trigger a resize in the client,\n",
       "    // which will in turn request a refresh of the image.\n",
       "    this.send_message('resize', {'width': x_pixels, 'height': y_pixels});\n",
       "}\n",
       "\n",
       "mpl.figure.prototype.send_message = function(type, properties) {\n",
       "    properties['type'] = type;\n",
       "    properties['figure_id'] = this.id;\n",
       "    this.ws.send(JSON.stringify(properties));\n",
       "}\n",
       "\n",
       "mpl.figure.prototype.send_draw_message = function() {\n",
       "    if (!this.waiting) {\n",
       "        this.waiting = true;\n",
       "        this.ws.send(JSON.stringify({type: \"draw\", figure_id: this.id}));\n",
       "    }\n",
       "}\n",
       "\n",
       "\n",
       "mpl.figure.prototype.handle_save = function(fig, msg) {\n",
       "    var format_dropdown = fig.format_dropdown;\n",
       "    var format = format_dropdown.options[format_dropdown.selectedIndex].value;\n",
       "    fig.ondownload(fig, format);\n",
       "}\n",
       "\n",
       "\n",
       "mpl.figure.prototype.handle_resize = function(fig, msg) {\n",
       "    var size = msg['size'];\n",
       "    if (size[0] != fig.canvas.width || size[1] != fig.canvas.height) {\n",
       "        fig._resize_canvas(size[0], size[1]);\n",
       "        fig.send_message(\"refresh\", {});\n",
       "    };\n",
       "}\n",
       "\n",
       "mpl.figure.prototype.handle_rubberband = function(fig, msg) {\n",
       "    var x0 = msg['x0'] / mpl.ratio;\n",
       "    var y0 = (fig.canvas.height - msg['y0']) / mpl.ratio;\n",
       "    var x1 = msg['x1'] / mpl.ratio;\n",
       "    var y1 = (fig.canvas.height - msg['y1']) / mpl.ratio;\n",
       "    x0 = Math.floor(x0) + 0.5;\n",
       "    y0 = Math.floor(y0) + 0.5;\n",
       "    x1 = Math.floor(x1) + 0.5;\n",
       "    y1 = Math.floor(y1) + 0.5;\n",
       "    var min_x = Math.min(x0, x1);\n",
       "    var min_y = Math.min(y0, y1);\n",
       "    var width = Math.abs(x1 - x0);\n",
       "    var height = Math.abs(y1 - y0);\n",
       "\n",
       "    fig.rubberband_context.clearRect(\n",
       "        0, 0, fig.canvas.width, fig.canvas.height);\n",
       "\n",
       "    fig.rubberband_context.strokeRect(min_x, min_y, width, height);\n",
       "}\n",
       "\n",
       "mpl.figure.prototype.handle_figure_label = function(fig, msg) {\n",
       "    // Updates the figure title.\n",
       "    fig.header.textContent = msg['label'];\n",
       "}\n",
       "\n",
       "mpl.figure.prototype.handle_cursor = function(fig, msg) {\n",
       "    var cursor = msg['cursor'];\n",
       "    switch(cursor)\n",
       "    {\n",
       "    case 0:\n",
       "        cursor = 'pointer';\n",
       "        break;\n",
       "    case 1:\n",
       "        cursor = 'default';\n",
       "        break;\n",
       "    case 2:\n",
       "        cursor = 'crosshair';\n",
       "        break;\n",
       "    case 3:\n",
       "        cursor = 'move';\n",
       "        break;\n",
       "    }\n",
       "    fig.rubberband_canvas.style.cursor = cursor;\n",
       "}\n",
       "\n",
       "mpl.figure.prototype.handle_message = function(fig, msg) {\n",
       "    fig.message.textContent = msg['message'];\n",
       "}\n",
       "\n",
       "mpl.figure.prototype.handle_draw = function(fig, msg) {\n",
       "    // Request the server to send over a new figure.\n",
       "    fig.send_draw_message();\n",
       "}\n",
       "\n",
       "mpl.figure.prototype.handle_image_mode = function(fig, msg) {\n",
       "    fig.image_mode = msg['mode'];\n",
       "}\n",
       "\n",
       "mpl.figure.prototype.updated_canvas_event = function() {\n",
       "    // Called whenever the canvas gets updated.\n",
       "    this.send_message(\"ack\", {});\n",
       "}\n",
       "\n",
       "// A function to construct a web socket function for onmessage handling.\n",
       "// Called in the figure constructor.\n",
       "mpl.figure.prototype._make_on_message_function = function(fig) {\n",
       "    return function socket_on_message(evt) {\n",
       "        if (evt.data instanceof Blob) {\n",
       "            /* FIXME: We get \"Resource interpreted as Image but\n",
       "             * transferred with MIME type text/plain:\" errors on\n",
       "             * Chrome.  But how to set the MIME type?  It doesn't seem\n",
       "             * to be part of the websocket stream */\n",
       "            evt.data.type = \"image/png\";\n",
       "\n",
       "            /* Free the memory for the previous frames */\n",
       "            if (fig.imageObj.src) {\n",
       "                (window.URL || window.webkitURL).revokeObjectURL(\n",
       "                    fig.imageObj.src);\n",
       "            }\n",
       "\n",
       "            fig.imageObj.src = (window.URL || window.webkitURL).createObjectURL(\n",
       "                evt.data);\n",
       "            fig.updated_canvas_event();\n",
       "            fig.waiting = false;\n",
       "            return;\n",
       "        }\n",
       "        else if (typeof evt.data === 'string' && evt.data.slice(0, 21) == \"data:image/png;base64\") {\n",
       "            fig.imageObj.src = evt.data;\n",
       "            fig.updated_canvas_event();\n",
       "            fig.waiting = false;\n",
       "            return;\n",
       "        }\n",
       "\n",
       "        var msg = JSON.parse(evt.data);\n",
       "        var msg_type = msg['type'];\n",
       "\n",
       "        // Call the  \"handle_{type}\" callback, which takes\n",
       "        // the figure and JSON message as its only arguments.\n",
       "        try {\n",
       "            var callback = fig[\"handle_\" + msg_type];\n",
       "        } catch (e) {\n",
       "            console.log(\"No handler for the '\" + msg_type + \"' message type: \", msg);\n",
       "            return;\n",
       "        }\n",
       "\n",
       "        if (callback) {\n",
       "            try {\n",
       "                // console.log(\"Handling '\" + msg_type + \"' message: \", msg);\n",
       "                callback(fig, msg);\n",
       "            } catch (e) {\n",
       "                console.log(\"Exception inside the 'handler_\" + msg_type + \"' callback:\", e, e.stack, msg);\n",
       "            }\n",
       "        }\n",
       "    };\n",
       "}\n",
       "\n",
       "// from http://stackoverflow.com/questions/1114465/getting-mouse-location-in-canvas\n",
       "mpl.findpos = function(e) {\n",
       "    //this section is from http://www.quirksmode.org/js/events_properties.html\n",
       "    var targ;\n",
       "    if (!e)\n",
       "        e = window.event;\n",
       "    if (e.target)\n",
       "        targ = e.target;\n",
       "    else if (e.srcElement)\n",
       "        targ = e.srcElement;\n",
       "    if (targ.nodeType == 3) // defeat Safari bug\n",
       "        targ = targ.parentNode;\n",
       "\n",
       "    // jQuery normalizes the pageX and pageY\n",
       "    // pageX,Y are the mouse positions relative to the document\n",
       "    // offset() returns the position of the element relative to the document\n",
       "    var x = e.pageX - $(targ).offset().left;\n",
       "    var y = e.pageY - $(targ).offset().top;\n",
       "\n",
       "    return {\"x\": x, \"y\": y};\n",
       "};\n",
       "\n",
       "/*\n",
       " * return a copy of an object with only non-object keys\n",
       " * we need this to avoid circular references\n",
       " * http://stackoverflow.com/a/24161582/3208463\n",
       " */\n",
       "function simpleKeys (original) {\n",
       "  return Object.keys(original).reduce(function (obj, key) {\n",
       "    if (typeof original[key] !== 'object')\n",
       "        obj[key] = original[key]\n",
       "    return obj;\n",
       "  }, {});\n",
       "}\n",
       "\n",
       "mpl.figure.prototype.mouse_event = function(event, name) {\n",
       "    var canvas_pos = mpl.findpos(event)\n",
       "\n",
       "    if (name === 'button_press')\n",
       "    {\n",
       "        this.canvas.focus();\n",
       "        this.canvas_div.focus();\n",
       "    }\n",
       "\n",
       "    var x = canvas_pos.x * mpl.ratio;\n",
       "    var y = canvas_pos.y * mpl.ratio;\n",
       "\n",
       "    this.send_message(name, {x: x, y: y, button: event.button,\n",
       "                             step: event.step,\n",
       "                             guiEvent: simpleKeys(event)});\n",
       "\n",
       "    /* This prevents the web browser from automatically changing to\n",
       "     * the text insertion cursor when the button is pressed.  We want\n",
       "     * to control all of the cursor setting manually through the\n",
       "     * 'cursor' event from matplotlib */\n",
       "    event.preventDefault();\n",
       "    return false;\n",
       "}\n",
       "\n",
       "mpl.figure.prototype._key_event_extra = function(event, name) {\n",
       "    // Handle any extra behaviour associated with a key event\n",
       "}\n",
       "\n",
       "mpl.figure.prototype.key_event = function(event, name) {\n",
       "\n",
       "    // Prevent repeat events\n",
       "    if (name == 'key_press')\n",
       "    {\n",
       "        if (event.which === this._key)\n",
       "            return;\n",
       "        else\n",
       "            this._key = event.which;\n",
       "    }\n",
       "    if (name == 'key_release')\n",
       "        this._key = null;\n",
       "\n",
       "    var value = '';\n",
       "    if (event.ctrlKey && event.which != 17)\n",
       "        value += \"ctrl+\";\n",
       "    if (event.altKey && event.which != 18)\n",
       "        value += \"alt+\";\n",
       "    if (event.shiftKey && event.which != 16)\n",
       "        value += \"shift+\";\n",
       "\n",
       "    value += 'k';\n",
       "    value += event.which.toString();\n",
       "\n",
       "    this._key_event_extra(event, name);\n",
       "\n",
       "    this.send_message(name, {key: value,\n",
       "                             guiEvent: simpleKeys(event)});\n",
       "    return false;\n",
       "}\n",
       "\n",
       "mpl.figure.prototype.toolbar_button_onclick = function(name) {\n",
       "    if (name == 'download') {\n",
       "        this.handle_save(this, null);\n",
       "    } else {\n",
       "        this.send_message(\"toolbar_button\", {name: name});\n",
       "    }\n",
       "};\n",
       "\n",
       "mpl.figure.prototype.toolbar_button_onmouseover = function(tooltip) {\n",
       "    this.message.textContent = tooltip;\n",
       "};\n",
       "mpl.toolbar_items = [[\"Home\", \"Reset original view\", \"fa fa-home icon-home\", \"home\"], [\"Back\", \"Back to previous view\", \"fa fa-arrow-left icon-arrow-left\", \"back\"], [\"Forward\", \"Forward to next view\", \"fa fa-arrow-right icon-arrow-right\", \"forward\"], [\"\", \"\", \"\", \"\"], [\"Pan\", \"Pan axes with left mouse, zoom with right\", \"fa fa-arrows icon-move\", \"pan\"], [\"Zoom\", \"Zoom to rectangle\", \"fa fa-square-o icon-check-empty\", \"zoom\"], [\"\", \"\", \"\", \"\"], [\"Download\", \"Download plot\", \"fa fa-floppy-o icon-save\", \"download\"]];\n",
       "\n",
       "mpl.extensions = [\"eps\", \"jpeg\", \"pdf\", \"png\", \"ps\", \"raw\", \"svg\", \"tif\"];\n",
       "\n",
       "mpl.default_extension = \"png\";var comm_websocket_adapter = function(comm) {\n",
       "    // Create a \"websocket\"-like object which calls the given IPython comm\n",
       "    // object with the appropriate methods. Currently this is a non binary\n",
       "    // socket, so there is still some room for performance tuning.\n",
       "    var ws = {};\n",
       "\n",
       "    ws.close = function() {\n",
       "        comm.close()\n",
       "    };\n",
       "    ws.send = function(m) {\n",
       "        //console.log('sending', m);\n",
       "        comm.send(m);\n",
       "    };\n",
       "    // Register the callback with on_msg.\n",
       "    comm.on_msg(function(msg) {\n",
       "        //console.log('receiving', msg['content']['data'], msg);\n",
       "        // Pass the mpl event to the overridden (by mpl) onmessage function.\n",
       "        ws.onmessage(msg['content']['data'])\n",
       "    });\n",
       "    return ws;\n",
       "}\n",
       "\n",
       "mpl.mpl_figure_comm = function(comm, msg) {\n",
       "    // This is the function which gets called when the mpl process\n",
       "    // starts-up an IPython Comm through the \"matplotlib\" channel.\n",
       "\n",
       "    var id = msg.content.data.id;\n",
       "    // Get hold of the div created by the display call when the Comm\n",
       "    // socket was opened in Python.\n",
       "    var element = $(\"#\" + id);\n",
       "    var ws_proxy = comm_websocket_adapter(comm)\n",
       "\n",
       "    function ondownload(figure, format) {\n",
       "        window.open(figure.imageObj.src);\n",
       "    }\n",
       "\n",
       "    var fig = new mpl.figure(id, ws_proxy,\n",
       "                           ondownload,\n",
       "                           element.get(0));\n",
       "\n",
       "    // Call onopen now - mpl needs it, as it is assuming we've passed it a real\n",
       "    // web socket which is closed, not our websocket->open comm proxy.\n",
       "    ws_proxy.onopen();\n",
       "\n",
       "    fig.parent_element = element.get(0);\n",
       "    fig.cell_info = mpl.find_output_cell(\"<div id='\" + id + \"'></div>\");\n",
       "    if (!fig.cell_info) {\n",
       "        console.error(\"Failed to find cell for figure\", id, fig);\n",
       "        return;\n",
       "    }\n",
       "\n",
       "    var output_index = fig.cell_info[2]\n",
       "    var cell = fig.cell_info[0];\n",
       "\n",
       "};\n",
       "\n",
       "mpl.figure.prototype.handle_close = function(fig, msg) {\n",
       "    var width = fig.canvas.width/mpl.ratio\n",
       "    fig.root.unbind('remove')\n",
       "\n",
       "    // Update the output cell to use the data from the current canvas.\n",
       "    fig.push_to_output();\n",
       "    var dataURL = fig.canvas.toDataURL();\n",
       "    // Re-enable the keyboard manager in IPython - without this line, in FF,\n",
       "    // the notebook keyboard shortcuts fail.\n",
       "    IPython.keyboard_manager.enable()\n",
       "    $(fig.parent_element).html('<img src=\"' + dataURL + '\" width=\"' + width + '\">');\n",
       "    fig.close_ws(fig, msg);\n",
       "}\n",
       "\n",
       "mpl.figure.prototype.close_ws = function(fig, msg){\n",
       "    fig.send_message('closing', msg);\n",
       "    // fig.ws.close()\n",
       "}\n",
       "\n",
       "mpl.figure.prototype.push_to_output = function(remove_interactive) {\n",
       "    // Turn the data on the canvas into data in the output cell.\n",
       "    var width = this.canvas.width/mpl.ratio\n",
       "    var dataURL = this.canvas.toDataURL();\n",
       "    this.cell_info[1]['text/html'] = '<img src=\"' + dataURL + '\" width=\"' + width + '\">';\n",
       "}\n",
       "\n",
       "mpl.figure.prototype.updated_canvas_event = function() {\n",
       "    // Tell IPython that the notebook contents must change.\n",
       "    IPython.notebook.set_dirty(true);\n",
       "    this.send_message(\"ack\", {});\n",
       "    var fig = this;\n",
       "    // Wait a second, then push the new image to the DOM so\n",
       "    // that it is saved nicely (might be nice to debounce this).\n",
       "    setTimeout(function () { fig.push_to_output() }, 1000);\n",
       "}\n",
       "\n",
       "mpl.figure.prototype._init_toolbar = function() {\n",
       "    var fig = this;\n",
       "\n",
       "    var nav_element = $('<div/>');\n",
       "    nav_element.attr('style', 'width: 100%');\n",
       "    this.root.append(nav_element);\n",
       "\n",
       "    // Define a callback function for later on.\n",
       "    function toolbar_event(event) {\n",
       "        return fig.toolbar_button_onclick(event['data']);\n",
       "    }\n",
       "    function toolbar_mouse_event(event) {\n",
       "        return fig.toolbar_button_onmouseover(event['data']);\n",
       "    }\n",
       "\n",
       "    for(var toolbar_ind in mpl.toolbar_items){\n",
       "        var name = mpl.toolbar_items[toolbar_ind][0];\n",
       "        var tooltip = mpl.toolbar_items[toolbar_ind][1];\n",
       "        var image = mpl.toolbar_items[toolbar_ind][2];\n",
       "        var method_name = mpl.toolbar_items[toolbar_ind][3];\n",
       "\n",
       "        if (!name) { continue; };\n",
       "\n",
       "        var button = $('<button class=\"btn btn-default\" href=\"#\" title=\"' + name + '\"><i class=\"fa ' + image + ' fa-lg\"></i></button>');\n",
       "        button.click(method_name, toolbar_event);\n",
       "        button.mouseover(tooltip, toolbar_mouse_event);\n",
       "        nav_element.append(button);\n",
       "    }\n",
       "\n",
       "    // Add the status bar.\n",
       "    var status_bar = $('<span class=\"mpl-message\" style=\"text-align:right; float: right;\"/>');\n",
       "    nav_element.append(status_bar);\n",
       "    this.message = status_bar[0];\n",
       "\n",
       "    // Add the close button to the window.\n",
       "    var buttongrp = $('<div class=\"btn-group inline pull-right\"></div>');\n",
       "    var button = $('<button class=\"btn btn-mini btn-primary\" href=\"#\" title=\"Stop Interaction\"><i class=\"fa fa-power-off icon-remove icon-large\"></i></button>');\n",
       "    button.click(function (evt) { fig.handle_close(fig, {}); } );\n",
       "    button.mouseover('Stop Interaction', toolbar_mouse_event);\n",
       "    buttongrp.append(button);\n",
       "    var titlebar = this.root.find($('.ui-dialog-titlebar'));\n",
       "    titlebar.prepend(buttongrp);\n",
       "}\n",
       "\n",
       "mpl.figure.prototype._root_extra_style = function(el){\n",
       "    var fig = this\n",
       "    el.on(\"remove\", function(){\n",
       "\tfig.close_ws(fig, {});\n",
       "    });\n",
       "}\n",
       "\n",
       "mpl.figure.prototype._canvas_extra_style = function(el){\n",
       "    // this is important to make the div 'focusable\n",
       "    el.attr('tabindex', 0)\n",
       "    // reach out to IPython and tell the keyboard manager to turn it's self\n",
       "    // off when our div gets focus\n",
       "\n",
       "    // location in version 3\n",
       "    if (IPython.notebook.keyboard_manager) {\n",
       "        IPython.notebook.keyboard_manager.register_events(el);\n",
       "    }\n",
       "    else {\n",
       "        // location in version 2\n",
       "        IPython.keyboard_manager.register_events(el);\n",
       "    }\n",
       "\n",
       "}\n",
       "\n",
       "mpl.figure.prototype._key_event_extra = function(event, name) {\n",
       "    var manager = IPython.notebook.keyboard_manager;\n",
       "    if (!manager)\n",
       "        manager = IPython.keyboard_manager;\n",
       "\n",
       "    // Check for shift+enter\n",
       "    if (event.shiftKey && event.which == 13) {\n",
       "        this.canvas_div.blur();\n",
       "        event.shiftKey = false;\n",
       "        // Send a \"J\" for go to next cell\n",
       "        event.which = 74;\n",
       "        event.keyCode = 74;\n",
       "        manager.command_mode();\n",
       "        manager.handle_keydown(event);\n",
       "    }\n",
       "}\n",
       "\n",
       "mpl.figure.prototype.handle_save = function(fig, msg) {\n",
       "    fig.ondownload(fig, null);\n",
       "}\n",
       "\n",
       "\n",
       "mpl.find_output_cell = function(html_output) {\n",
       "    // Return the cell and output element which can be found *uniquely* in the notebook.\n",
       "    // Note - this is a bit hacky, but it is done because the \"notebook_saving.Notebook\"\n",
       "    // IPython event is triggered only after the cells have been serialised, which for\n",
       "    // our purposes (turning an active figure into a static one), is too late.\n",
       "    var cells = IPython.notebook.get_cells();\n",
       "    var ncells = cells.length;\n",
       "    for (var i=0; i<ncells; i++) {\n",
       "        var cell = cells[i];\n",
       "        if (cell.cell_type === 'code'){\n",
       "            for (var j=0; j<cell.output_area.outputs.length; j++) {\n",
       "                var data = cell.output_area.outputs[j];\n",
       "                if (data.data) {\n",
       "                    // IPython >= 3 moved mimebundle to data attribute of output\n",
       "                    data = data.data;\n",
       "                }\n",
       "                if (data['text/html'] == html_output) {\n",
       "                    return [cell, data, j];\n",
       "                }\n",
       "            }\n",
       "        }\n",
       "    }\n",
       "}\n",
       "\n",
       "// Register the function which deals with the matplotlib target/channel.\n",
       "// The kernel may be null if the page has been refreshed.\n",
       "if (IPython.notebook.kernel != null) {\n",
       "    IPython.notebook.kernel.comm_manager.register_target('matplotlib', mpl.mpl_figure_comm);\n",
       "}\n"
      ],
      "text/plain": [
       "<IPython.core.display.Javascript object>"
      ]
     },
     "metadata": {},
     "output_type": "display_data"
    },
    {
     "data": {
      "text/html": [
       "<img src=\"data:image/png;base64,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\" width=\"640\">"
      ],
      "text/plain": [
       "<IPython.core.display.HTML object>"
      ]
     },
     "metadata": {},
     "output_type": "display_data"
    }
   ],
   "source": [
    "plt.figure()\n",
    "plt.plot(f1_score_x_labels,f1_score_list,'-b')\n",
    "plt.xlabel('Classification Models')\n",
    "plt.ylabel('F1 Score')\n",
    "plt.xticks(rotation='vertical')\n",
    "plt.tight_layout()\n",
    "plt.show()"
   ]
  },
  {
   "cell_type": "code",
   "execution_count": null,
   "metadata": {},
   "outputs": [],
   "source": []
  }
 ],
 "metadata": {
  "kernelspec": {
   "display_name": "Python 3",
   "language": "python",
   "name": "python3"
  },
  "language_info": {
   "codemirror_mode": {
    "name": "ipython",
    "version": 3
   },
   "file_extension": ".py",
   "mimetype": "text/x-python",
   "name": "python",
   "nbconvert_exporter": "python",
   "pygments_lexer": "ipython3",
   "version": "3.7.3"
  }
 },
 "nbformat": 4,
 "nbformat_minor": 2
}
